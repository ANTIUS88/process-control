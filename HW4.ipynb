{
 "cells": [
  {
   "cell_type": "markdown",
   "metadata": {},
   "source": [
    "<!--NOTEBOOK_HEADER-->\n",
    "*This notebook contains material from [cbe30338-2021](https://jckantor.github.io/cbe30338-2021);\n",
    "content is available [on Github](https://github.com/jckantor/cbe30338-2021.git).*\n"
   ]
  },
  {
   "cell_type": "markdown",
   "metadata": {},
   "source": [
    "<!--NAVIGATION-->\n",
    "< [5.2 Linear Blending Problems](https://jckantor.github.io/cbe30338-2021/05.02-Linear-Blending-Problem.html) | [Contents](toc.html) | [Tag Index](tag_index.html) | [5.4 Gasoline Blending](https://jckantor.github.io/cbe30338-2021/05.04-Gasoline-Blending.html) ><p><a href=\"https://colab.research.google.com/github/jckantor/cbe30338-2021/blob/master/docs/05.03-Homework_5.ipynb\"> <img align=\"left\" src=\"https://colab.research.google.com/assets/colab-badge.svg\" alt=\"Open in Colab\" title=\"Open in Google Colaboratory\"></a><p><a href=\"https://jckantor.github.io/cbe30338-2021/05.03-Homework_5.ipynb\"> <img align=\"left\" src=\"https://img.shields.io/badge/Github-Download-blue.svg\" alt=\"Download\" title=\"Download Notebook\"></a>"
   ]
  },
  {
   "cell_type": "markdown",
   "metadata": {
    "id": "5jDthKd8zoSX",
    "nbpages": {
     "level": 1,
     "link": "[5.3 Homework Assignment 4](https://jckantor.github.io/cbe30338-2021/05.03-Homework_5.html#5.3-Homework-Assignment-4)",
     "section": "5.3 Homework Assignment 4"
    }
   },
   "source": [
    "# 5.3 Homework Assignment 4\n",
    "\n",
    "## Austin Booth\n",
    "\n",
    "Link:\n",
    "\n",
    "Homework assigment 4 is intended to develop your skills in creating linear programming models. The lecture notes (notebook 5.2) will provide with a starting point for the following exercises. The problem data has been changed to provide a more meaningful example for sensitivity analysis.\n",
    "\n",
    "\n",
    "You have been placed in charge of a metals reuse operation. A collection of raw materials are available with key parameters given in the following table.\n",
    "\n",
    "| material | % carbon (C) | % copper (Cu) | % manganese (Mn) | amount (kg) | cost (\\$/kg) | type |\n",
    "| :---: | :---: | :---: | :---: | :---: | :---: | :---\n",
    "| A | 2.5 | 0.0 | 1.3 | 4000 | 1.20 | iron alloy\n",
    "| B | 3.0 | 0.0 | 0.8 | 3000 | 1.50 | iron alloy\n",
    "| C | 0.0 | 0.3 | 0.0 | 6000 | 0.90 | iron alloy\n",
    "| D | 0.0 | 90.0 | 0.0 | 5000 | 1.30 | copper alloy\n",
    "| E | 0.0 | 96.0 | 4.0 | 2000 | 1.45 | copper alloy\n",
    "| F | 0.0 | 0.4 | 1.2 | 3000 | 1.20 | aluminum alloy\n",
    "| G | 0.0 | 0.6 | 0.0 | 2500 | 1.00 | aluminum alloy\n",
    "\n",
    "A customer has requested 5000 kg of mix satisfying these  specifications:\n",
    "\n",
    "| Component | min % | max % |\n",
    "| :---: | :---: | :---: |\n",
    "| C | 2.0 | 3.0 |\n",
    "| Cu | 0.4 | 0.6 |\n",
    "| Mn | 1.2 | 1.65 |\n",
    "\n",
    "For convenience, the raw material data has been organized as a nested dictionaries."
   ]
  },
  {
   "cell_type": "code",
   "execution_count": 2,
   "metadata": {
    "executionInfo": {
     "elapsed": 351,
     "status": "ok",
     "timestamp": 1617821702648,
     "user": {
      "displayName": "Jeffrey Kantor",
      "photoUrl": "https://lh3.googleusercontent.com/a-/AOh14Gg_n8V7bVINy02QRuRgOoMo11Ri7NKU3OUKdC1bkQ=s64",
      "userId": "09038942003589296665"
     },
     "user_tz": 240
    },
    "id": "cwM6Z9es1HCJ",
    "nbpages": {
     "level": 1,
     "link": "[5.3 Homework Assignment 4](https://jckantor.github.io/cbe30338-2021/05.03-Homework_5.html#5.3-Homework-Assignment-4)",
     "section": "5.3 Homework Assignment 4"
    }
   },
   "outputs": [],
   "source": [
    "data = {\n",
    "    \"A\": {\"C\": 2.5, \"Cu\": 0.0, \"Mn\": 1.3, \"amount\": 4000, \"cost\": 1.20},\n",
    "    \"B\": {\"C\": 3.0, \"Cu\": 0.0, \"Mn\": 0.8, \"amount\": 3000, \"cost\": 1.50},\n",
    "    \"C\": {\"C\": 0.0, \"Cu\": 0.3, \"Mn\": 0.0, \"amount\": 6000, \"cost\": 0.90},\n",
    "    \"D\": {\"C\": 0.0, \"Cu\": 90.0, \"Mn\": 0.0, \"amount\": 5000, \"cost\": 1.30},\n",
    "    \"E\": {\"C\": 0.0, \"Cu\": 96.0, \"Mn\": 4.0, \"amount\": 2000, \"cost\": 1.45},\n",
    "    \"F\": {\"C\": 0.0, \"Cu\": 0.4, \"Mn\": 1.2, \"amount\": 3000, \"cost\": 1.20},\n",
    "    \"G\": {\"C\": 0.0, \"Cu\": 0.6, \"Mn\": 0.0, \"amount\": 2500, \"cost\": 1.00},\n",
    "}"
   ]
  },
  {
   "cell_type": "markdown",
   "metadata": {
    "id": "-OKFyi0htQ9I",
    "nbpages": {
     "level": 2,
     "link": "[5.3.1 Exercise 1. Getting Started](https://jckantor.github.io/cbe30338-2021/05.03-Homework_5.html#5.3.1-Exercise-1.-Getting-Started)",
     "section": "5.3.1 Exercise 1. Getting Started"
    }
   },
   "source": [
    "## 5.3.1 Exercise 1. Getting Started\n",
    "\n",
    "\n"
   ]
  },
  {
   "cell_type": "markdown",
   "metadata": {
    "id": "Pk02uJ5WmKie",
    "nbpages": {
     "level": 2,
     "link": "[5.3.1 Exercise 1. Getting Started](https://jckantor.github.io/cbe30338-2021/05.03-Homework_5.html#5.3.1-Exercise-1.-Getting-Started)",
     "section": "5.3.1 Exercise 1. Getting Started"
    }
   },
   "source": [
    "Considering just the constraint on carbon content, adapt the `brew_blend` function from notebook 5.2 to find a minimum cost blend raw materials that yield 5000 kg of product with a carbon content between 2.0 and 3.0%. For this first exercise you can ignore the bounds on the available amount of each raw material.\n",
    "\n",
    "* change the name of the function to `metal_blend`.\n",
    "* `metal_blend` should accept arguments including\n",
    "    * `data`, \n",
    "    * the required mass of final product, and\n",
    "    *  the acceptable range of carbon content specified as a pair of numbers of  `[lower_bound, upper_bound]`.\n",
    "* `metal_blend` should return the minimum cost, and the amounts of each raw material to include in the blend.\n",
    "\n",
    "Demonstrate use of `metal_blend` to compute the required blend. From the results of the calculation to report\n",
    "\n",
    "* the cost of the blend\n",
    "* the total mass of the blend\n",
    "* the mass of each raw material used in the blend\n",
    "* the composition of the blend with regard to the species carbon, copper and managanese.\n",
    "\n",
    "You may find it convenient to write a function for this purpose that can be used in the following exercise.\n",
    "\n"
   ]
  },
  {
   "cell_type": "markdown",
   "metadata": {
    "id": "_0QMFKqur4qJ",
    "nbpages": {
     "level": 3,
     "link": "[5.3.1.1 Solution](https://jckantor.github.io/cbe30338-2021/05.03-Homework_5.html#5.3.1.1-Solution)",
     "section": "5.3.1.1 Solution"
    }
   },
   "source": [
    "### 5.3.1.1 Solution"
   ]
  },
  {
   "cell_type": "code",
   "execution_count": 33,
   "metadata": {
    "executionInfo": {
     "elapsed": 541,
     "status": "ok",
     "timestamp": 1617821703701,
     "user": {
      "displayName": "Jeffrey Kantor",
      "photoUrl": "https://lh3.googleusercontent.com/a-/AOh14Gg_n8V7bVINy02QRuRgOoMo11Ri7NKU3OUKdC1bkQ=s64",
      "userId": "09038942003589296665"
     },
     "user_tz": 240
    },
    "id": "C5Rf1oc1r8do",
    "nbpages": {
     "level": 3,
     "link": "[5.3.1.1 Solution](https://jckantor.github.io/cbe30338-2021/05.03-Homework_5.html#5.3.1.1-Solution)",
     "section": "5.3.1.1 Solution"
    }
   },
   "outputs": [
    {
     "name": "stdout",
     "output_type": "stream",
     "text": [
      "With cost minimized and C between 2.0 and 3.0%:\n",
      "Mass: 5000 kg \n",
      "Total cost: $5700.00\n",
      "C composition:  2.00%\n",
      "Cu composition:  0.06%\n",
      "Mn composition:  1.04%\n",
      "\n",
      "A: 4000.00 kg\n",
      "B:  0.00 kg\n",
      "C: 1000.00 kg\n",
      "D:  0.00 kg\n",
      "E:  0.00 kg\n",
      "F:  0.00 kg\n",
      "G:  0.00 kg\n"
     ]
    }
   ],
   "source": [
    "import numpy as np\n",
    "import cvxpy as cp\n",
    "\n",
    "def metal_blend(mass, carbon, data):\n",
    "    \n",
    "    # create lower and upper bounds from carbon input\n",
    "    lower_boundC = carbon[0]\n",
    "    upper_boundC = carbon[1]\n",
    "    \n",
    "    # create set of components\n",
    "    components = set(data.keys())\n",
    "    \n",
    "    # create variables\n",
    "    x = {c: cp.Variable(nonneg=True, name=c) for c in components}\n",
    "    \n",
    "    # create objective function\n",
    "    total_cost = sum(x[c]*data[c]['cost'] for c in components)\n",
    "    \n",
    "    # create list of constraints\n",
    "    constraints = [\n",
    "        mass == sum(x[c] for c in components),\n",
    "        0 >= sum(x[c]*(data[c]['C'] - upper_boundC) for c in components),\n",
    "        0 <= sum(x[c]*(data[c]['C'] - lower_boundC) for c in components)\n",
    "    ]\n",
    "    \n",
    "    # create and solve problem\n",
    "    problem = cp.Problem(cp.Minimize(total_cost), constraints)\n",
    "    problem.solve()\n",
    "    \n",
    "    # return results\n",
    "    # min cost and optimal blend\n",
    "    min_cost = problem.value\n",
    "    optimal_blend = {c: x[c].value for c in components}\n",
    "    \n",
    "    # composition (averages) of C, Cu, Mn\n",
    "    avg_C = sum(x[c].value*data[c]['C'] for c in components) / mass \n",
    "    avg_Cu = sum(x[c].value*(data[c]['Cu']) for c in components) / mass\n",
    "    avg_Mn = sum(x[c].value*(data[c]['Mn']) for c in components) / mass\n",
    "\n",
    "    \n",
    "    return min_cost, optimal_blend, avg_C, avg_Cu, avg_Mn\n",
    " \n",
    "mass = 5000\n",
    "carbon = [2.0, 3.0]\n",
    "min_cost, optimal_blend, avg_C, avg_Cu, avg_Mn = metal_blend(mass, carbon, data)\n",
    "\n",
    "print('With cost minimized and C between 2.0 and 3.0%:')\n",
    "print(f\"Mass: {mass} kg \")\n",
    "print(f\"Total cost: ${min_cost:5.2f}\")\n",
    "print(f\"C composition: {avg_C:5.2f}%\")\n",
    "print(f\"Cu composition: {avg_Cu:5.2f}%\")\n",
    "print(f\"Mn composition: {avg_Mn:5.2f}%\")\n",
    "print()\n",
    "for c in sorted(optimal_blend.keys()):\n",
    "    print(f\"{c}: {optimal_blend[c]:5.2f}\", 'kg')"
   ]
  },
  {
   "cell_type": "markdown",
   "metadata": {
    "id": "DSHMhaDmdb-G",
    "nbpages": {
     "level": 2,
     "link": "[5.3.2 Exercise 2. Incorporating Constraints](https://jckantor.github.io/cbe30338-2021/05.03-Homework_5.html#5.3.2-Exercise-2.-Incorporating-Constraints)",
     "section": "5.3.2 Exercise 2. Incorporating Constraints"
    }
   },
   "source": [
    "## 5.3.2 Exercise 2. Incorporating Constraints\n",
    "\n",
    "We'll continue this problem by incorporating all of the constraints. The constraiints include:\n",
    "\n",
    "* Lower and upper bounds on the copper and manganese composition\n",
    "* Limits on the amount of available raw material\n",
    "\n",
    "The easiest way to proceed is to copy and paste `metal_blend` into a cell below, then add constraints one at a time until all have been incorporated.\n",
    "\n",
    "What is the minimum price you would need to charge in $/kg to produce 5,000 kg of requested product?"
   ]
  },
  {
   "cell_type": "code",
   "execution_count": 52,
   "metadata": {
    "executionInfo": {
     "elapsed": 508,
     "status": "ok",
     "timestamp": 1617821704610,
     "user": {
      "displayName": "Jeffrey Kantor",
      "photoUrl": "https://lh3.googleusercontent.com/a-/AOh14Gg_n8V7bVINy02QRuRgOoMo11Ri7NKU3OUKdC1bkQ=s64",
      "userId": "09038942003589296665"
     },
     "user_tz": 240
    },
    "id": "heHrOElXeLQr",
    "nbpages": {
     "level": 2,
     "link": "[5.3.2 Exercise 2. Incorporating Constraints](https://jckantor.github.io/cbe30338-2021/05.03-Homework_5.html#5.3.2-Exercise-2.-Incorporating-Constraints)",
     "section": "5.3.2 Exercise 2. Incorporating Constraints"
    }
   },
   "outputs": [
    {
     "name": "stdout",
     "output_type": "stream",
     "text": [
      "With cost minimized:\n",
      "Mass: 5000 kg \n",
      "Total cost: $5887.57\n",
      "C composition:  2.00%\n",
      "Cu composition:  0.60%\n",
      "Mn composition:  1.20%\n",
      "\n",
      "A: 4000.00 kg\n",
      "B:  0.00 kg\n",
      "C: 397.76 kg\n",
      "D:  0.00 kg\n",
      "E: 27.61 kg\n",
      "F: 574.62 kg\n",
      "G:  0.00 kg\n",
      "\n",
      "Cost per kg: $ 1.18/kg\n"
     ]
    }
   ],
   "source": [
    "import numpy as np\n",
    "import cvxpy as cp\n",
    "\n",
    "def metal_blend(mass, carbon, copper, manganese, data):\n",
    "    \n",
    "    # create lower and upper bounds from metal constraint inputs\n",
    "    lower_boundC = carbon[0]\n",
    "    upper_boundC = carbon[1]\n",
    "    lower_boundCu = copper[0]\n",
    "    upper_boundCu = copper[1]\n",
    "    lower_boundMn = manganese[0]\n",
    "    upper_boundMn = manganese[1]\n",
    "    \n",
    "    # create set of components\n",
    "    components = set(data.keys())\n",
    "    \n",
    "    # create variables\n",
    "    x = {c: cp.Variable(nonneg=True, name=c) for c in components}\n",
    "    \n",
    "    # create objective function\n",
    "    total_cost = sum(x[c]*data[c]['cost'] for c in components)\n",
    "    \n",
    "    # create list of constraints\n",
    "    constraints = [\n",
    "        # mass\n",
    "        mass == sum(x[c] for c in components),\n",
    "        # carbon\n",
    "        0 >= sum(x[c]*(data[c]['C'] - upper_boundC) for c in components),\n",
    "        0 <= sum(x[c]*(data[c]['C'] - lower_boundC) for c in components),\n",
    "        # copper\n",
    "        0 >= sum(x[c]*(data[c]['Cu'] - upper_boundCu) for c in components),\n",
    "        0 <= sum(x[c]*(data[c]['Cu'] - lower_boundCu) for c in components),\n",
    "        # manganese\n",
    "        0 >= sum(x[c]*(data[c]['Mn'] - upper_boundMn) for c in components),\n",
    "        0 <= sum(x[c]*(data[c]['Mn'] - lower_boundMn) for c in components),\n",
    "        # limits on each material\n",
    "        0 >= x['A'] - data['A']['amount'],\n",
    "        0 >= x['B'] - data['B']['amount'],\n",
    "        0 >= x['C'] - data['C']['amount'],\n",
    "        0 >= x['D'] - data['D']['amount'],\n",
    "        0 >= x['E'] - data['E']['amount'],\n",
    "        0 >= x['F'] - data['F']['amount'],\n",
    "        0 >= x['G'] - data['G']['amount']\n",
    "\n",
    "\n",
    "    ]\n",
    "    \n",
    "    # create and solve problem\n",
    "    problem = cp.Problem(cp.Minimize(total_cost), constraints)\n",
    "    problem.solve()\n",
    "    \n",
    "    # return results\n",
    "    # min cost and optimal blend\n",
    "    min_cost = problem.value\n",
    "    optimal_blend = {c: x[c].value for c in components}\n",
    "    \n",
    "    # composition (averages) of C, Cu, Mn\n",
    "    avg_C = sum(x[c].value*data[c]['C'] for c in components) / mass \n",
    "    avg_Cu = sum(x[c].value*(data[c]['Cu']) for c in components) / mass\n",
    "    avg_Mn = sum(x[c].value*(data[c]['Mn']) for c in components) / mass\n",
    "\n",
    "    \n",
    "    return min_cost, optimal_blend, avg_C, avg_Cu, avg_Mn\n",
    "\n",
    "# define constant constraint variables\n",
    "mass = 5000\n",
    "carbon = [2.0, 3.0]\n",
    "copper = [0.4, 0.6]\n",
    "manganese = [1.2, 1.65]\n",
    "\n",
    "# execute function and print results\n",
    "min_cost, optimal_blend, avg_C, avg_Cu, avg_Mn = metal_blend(mass, carbon, copper, manganese, data)\n",
    "\n",
    "print('With cost minimized:')\n",
    "print(f\"Mass: {mass} kg \")\n",
    "print(f\"Total cost: ${min_cost:5.2f}\")\n",
    "print(f\"C composition: {avg_C:5.2f}%\")\n",
    "print(f\"Cu composition: {avg_Cu:5.2f}%\")\n",
    "print(f\"Mn composition: {avg_Mn:5.2f}%\")\n",
    "print()\n",
    "for c in sorted(optimal_blend.keys()):\n",
    "    print(f\"{c}: {optimal_blend[c]:5.2f}\", 'kg')\n",
    "    \n",
    "# cost per kg    \n",
    "print()\n",
    "print(f'Cost per kg: ${(min_cost/mass):5.2f}/kg')"
   ]
  },
  {
   "cell_type": "markdown",
   "metadata": {
    "id": "Jq99WAVRlLQt",
    "nbpages": {
     "level": 2,
     "link": "[5.3.3 Exercise 3. Sensitivity Analysis](https://jckantor.github.io/cbe30338-2021/05.03-Homework_5.html#5.3.3-Exercise-3.-Sensitivity-Analysis)",
     "section": "5.3.3 Exercise 3. Sensitivity Analysis"
    }
   },
   "source": [
    "## 5.3.3 Exercise 3. Sensitivity Analysis\n",
    "\n",
    "One of the important reasons to create optimization models is to understand the value of the raw materials that are available to you, and how to adjust operations to accomodate changing requirements. The is commonly referred to as **sensitivity analysis**.\n",
    "\n",
    "Using the functions you've created in above exercises, answer the following questions:\n",
    "\n",
    "1. The customer is very pleased with your initial pricing for 5,000 kg of the desired product, and now wishes to increase the order to 6,000 kg. Does your unit cost ($/kg) go up? If so, explain why your unit cost has gone up.\n",
    "\n",
    "2. Is there an upper limit on how much product your can provide to this customer? (Use trial and error. To the nearest 100 kg, find the maximum amount of product you can ship to the customer.) What is the unit cost now?\n",
    "\n",
    "3. After some negotiation, you and your customer settle on an order of 6,500 kg. Now you wish to negotiate with your suppliers for more raw material. How much money to you save for 1 additional kg of raw material \"A\"? Based on this, what price would you be willing to pay your supplier for additional \"A\"?\n",
    "\n"
   ]
  },
  {
   "cell_type": "markdown",
   "metadata": {},
   "source": [
    "### Part 1"
   ]
  },
  {
   "cell_type": "code",
   "execution_count": 53,
   "metadata": {
    "executionInfo": {
     "elapsed": 154,
     "status": "ok",
     "timestamp": 1617821711041,
     "user": {
      "displayName": "Jeffrey Kantor",
      "photoUrl": "https://lh3.googleusercontent.com/a-/AOh14Gg_n8V7bVINy02QRuRgOoMo11Ri7NKU3OUKdC1bkQ=s64",
      "userId": "09038942003589296665"
     },
     "user_tz": 240
    },
    "id": "ki-CRcCpmKdg",
    "nbpages": {
     "level": 2,
     "link": "[5.3.3 Exercise 3. Sensitivity Analysis](https://jckantor.github.io/cbe30338-2021/05.03-Homework_5.html#5.3.3-Exercise-3.-Sensitivity-Analysis)",
     "section": "5.3.3 Exercise 3. Sensitivity Analysis"
    }
   },
   "outputs": [
    {
     "name": "stdout",
     "output_type": "stream",
     "text": [
      "With cost minimized:\n",
      "Mass: 6000 kg \n",
      "Total cost: $7352.14\n",
      "C composition:  2.00%\n",
      "Cu composition:  0.60%\n",
      "Mn composition:  1.20%\n",
      "\n",
      "A: 4000.00 kg\n",
      "B: 666.67 kg\n",
      "C: 186.41 kg\n",
      "D:  0.00 kg\n",
      "E: 32.27 kg\n",
      "F: 1114.65 kg\n",
      "G:  0.00 kg\n",
      "\n",
      "Cost per kg: $ 1.23/kg\n"
     ]
    }
   ],
   "source": [
    "# define constant constraint variables\n",
    "mass = 6000\n",
    "carbon = [2.0, 3.0]\n",
    "copper = [0.4, 0.6]\n",
    "manganese = [1.2, 1.65]\n",
    "\n",
    "# execute function and print results\n",
    "min_cost, optimal_blend, avg_C, avg_Cu, avg_Mn = metal_blend(mass, carbon, copper, manganese, data)\n",
    "\n",
    "print('With cost minimized:')\n",
    "print(f\"Mass: {mass} kg \")\n",
    "print(f\"Total cost: ${min_cost:5.2f}\")\n",
    "print(f\"C composition: {avg_C:5.2f}%\")\n",
    "print(f\"Cu composition: {avg_Cu:5.2f}%\")\n",
    "print(f\"Mn composition: {avg_Mn:5.2f}%\")\n",
    "print()\n",
    "for c in sorted(optimal_blend.keys()):\n",
    "    print(f\"{c}: {optimal_blend[c]:5.2f}\", 'kg')\n",
    "    \n",
    "# cost per kg    \n",
    "print()\n",
    "print(f'Cost per kg: ${(min_cost/mass):5.2f}/kg')"
   ]
  },
  {
   "cell_type": "markdown",
   "metadata": {
    "id": "j3gZaXSyzYd5",
    "nbpages": {
     "level": 2,
     "link": "[5.3.3 Exercise 3. Sensitivity Analysis](https://jckantor.github.io/cbe30338-2021/05.03-Homework_5.html#5.3.3-Exercise-3.-Sensitivity-Analysis)",
     "section": "5.3.3 Exercise 3. Sensitivity Analysis"
    }
   },
   "source": [
    "Yes, the unit cost has gone up. This is because some of component B now has to be used to contribute to the product's carbon content, since the maximum amount of component A is being used and is not enough to give the higher-quantity product 2% C. B must be added and is more expensive than A. Additionally, more of the expensive components F and E must be used to ensure that the entire product at the new quantity has a sufficient concentration of manganese.\n",
    "\n",
    "### Part 2"
   ]
  },
  {
   "cell_type": "code",
   "execution_count": 79,
   "metadata": {},
   "outputs": [
    {
     "name": "stdout",
     "output_type": "stream",
     "text": [
      "With cost minimized:\n",
      "Mass: 6882 kg \n",
      "Total cost: $8643.89\n",
      "C composition:  2.00%\n",
      "Cu composition:  0.60%\n",
      "Mn composition:  1.20%\n",
      "\n",
      "A: 4000.00 kg\n",
      "B: 1254.67 kg\n",
      "C:  0.01 kg\n",
      "D:  0.00 kg\n",
      "E: 36.38 kg\n",
      "F: 1590.94 kg\n",
      "G:  0.00 kg\n",
      "\n",
      "Cost per kg: $ 1.26/kg\n"
     ]
    }
   ],
   "source": [
    "# define constant constraint variables\n",
    "mass = 6882\n",
    "carbon = [2.0, 3.0]\n",
    "copper = [0.4, 0.6]\n",
    "manganese = [1.2, 1.65]\n",
    "\n",
    "# execute function and print results\n",
    "min_cost, optimal_blend, avg_C, avg_Cu, avg_Mn = metal_blend(mass, carbon, copper, manganese, data)\n",
    "\n",
    "print('With cost minimized:')\n",
    "print(f\"Mass: {mass} kg \")\n",
    "print(f\"Total cost: ${min_cost:5.2f}\")\n",
    "print(f\"C composition: {avg_C:5.2f}%\")\n",
    "print(f\"Cu composition: {avg_Cu:5.2f}%\")\n",
    "print(f\"Mn composition: {avg_Mn:5.2f}%\")\n",
    "print()\n",
    "for c in sorted(optimal_blend.keys()):\n",
    "    print(f\"{c}: {optimal_blend[c]:5.2f}\", 'kg')\n",
    "    \n",
    "# cost per kg    \n",
    "print()\n",
    "print(f'Cost per kg: ${(min_cost/mass):5.2f}/kg')"
   ]
  },
  {
   "cell_type": "markdown",
   "metadata": {},
   "source": [
    "The program errors out past this point. Thus, the maximum amount of product is about 6900 kg, with a cost per kg of $1.26/kg.\n",
    "\n",
    "### Part 3"
   ]
  },
  {
   "cell_type": "code",
   "execution_count": 80,
   "metadata": {},
   "outputs": [
    {
     "name": "stdout",
     "output_type": "stream",
     "text": [
      "With cost minimized:\n",
      "Mass: 6500 kg \n",
      "Total cost: $8084.43\n",
      "C composition:  2.00%\n",
      "Cu composition:  0.60%\n",
      "Mn composition:  1.20%\n",
      "\n",
      "A: 4000.00 kg\n",
      "B: 1000.00 kg\n",
      "C: 80.74 kg\n",
      "D:  0.00 kg\n",
      "E: 34.60 kg\n",
      "F: 1384.66 kg\n",
      "G:  0.00 kg\n",
      "\n",
      "Cost per kg: $ 1.24/kg\n"
     ]
    }
   ],
   "source": [
    "def metal_blend(mass, carbon, copper, manganese, data):\n",
    "    \n",
    "    # create lower and upper bounds from metal constraint inputs\n",
    "    lower_boundC = carbon[0]\n",
    "    upper_boundC = carbon[1]\n",
    "    lower_boundCu = copper[0]\n",
    "    upper_boundCu = copper[1]\n",
    "    lower_boundMn = manganese[0]\n",
    "    upper_boundMn = manganese[1]\n",
    "    \n",
    "    # create set of components\n",
    "    components = set(data.keys())\n",
    "    \n",
    "    # create variables\n",
    "    x = {c: cp.Variable(nonneg=True, name=c) for c in components}\n",
    "    \n",
    "    # create objective function\n",
    "    total_cost = sum(x[c]*data[c]['cost'] for c in components)\n",
    "    \n",
    "    # create list of constraints\n",
    "    constraints = [\n",
    "        # mass\n",
    "        mass == sum(x[c] for c in components),\n",
    "        # carbon\n",
    "        0 >= sum(x[c]*(data[c]['C'] - upper_boundC) for c in components),\n",
    "        0 <= sum(x[c]*(data[c]['C'] - lower_boundC) for c in components),\n",
    "        # copper\n",
    "        0 >= sum(x[c]*(data[c]['Cu'] - upper_boundCu) for c in components),\n",
    "        0 <= sum(x[c]*(data[c]['Cu'] - lower_boundCu) for c in components),\n",
    "        # manganese\n",
    "        0 >= sum(x[c]*(data[c]['Mn'] - upper_boundMn) for c in components),\n",
    "        0 <= sum(x[c]*(data[c]['Mn'] - lower_boundMn) for c in components),\n",
    "        # limits on each material\n",
    "        0 >= x['A'] - data['A']['amount'],\n",
    "        0 >= x['B'] - data['B']['amount'],\n",
    "        0 >= x['C'] - data['C']['amount'],\n",
    "        0 >= x['D'] - data['D']['amount'],\n",
    "        0 >= x['E'] - data['E']['amount'],\n",
    "        0 >= x['F'] - data['F']['amount'],\n",
    "        0 >= x['G'] - data['G']['amount']\n",
    "    ]\n",
    "    \n",
    "    # create and solve problem\n",
    "    problem = cp.Problem(cp.Minimize(total_cost), constraints)\n",
    "    problem.solve()\n",
    "    \n",
    "    # return results\n",
    "    # min cost and optimal blend\n",
    "    min_cost = problem.value\n",
    "    optimal_blend = {c: x[c].value for c in components}\n",
    "    \n",
    "    # composition (averages) of C, Cu, Mn\n",
    "    avg_C = sum(x[c].value*data[c]['C'] for c in components) / mass \n",
    "    avg_Cu = sum(x[c].value*(data[c]['Cu']) for c in components) / mass\n",
    "    avg_Mn = sum(x[c].value*(data[c]['Mn']) for c in components) / mass\n",
    "\n",
    "    \n",
    "    return min_cost, optimal_blend, avg_C, avg_Cu, avg_Mn\n",
    "\n",
    "# define constant constraint variables\n",
    "mass = 6500\n",
    "carbon = [2.0, 3.0]\n",
    "copper = [0.4, 0.6]\n",
    "manganese = [1.2, 1.65]\n",
    "\n",
    "# execute function and print results\n",
    "min_cost, optimal_blend, avg_C, avg_Cu, avg_Mn = metal_blend(mass, carbon, copper, manganese, data)\n",
    "\n",
    "print('With cost minimized:')\n",
    "print(f\"Mass: {mass} kg \")\n",
    "print(f\"Total cost: ${min_cost:5.2f}\")\n",
    "print(f\"C composition: {avg_C:5.2f}%\")\n",
    "print(f\"Cu composition: {avg_Cu:5.2f}%\")\n",
    "print(f\"Mn composition: {avg_Mn:5.2f}%\")\n",
    "print()\n",
    "for c in sorted(optimal_blend.keys()):\n",
    "    print(f\"{c}: {optimal_blend[c]:5.2f}\", 'kg')\n",
    "    \n",
    "# cost per kg    \n",
    "print()\n",
    "print(f'Cost per kg: ${(min_cost/mass):5.2f}/kg')"
   ]
  },
  {
   "cell_type": "code",
   "execution_count": 85,
   "metadata": {},
   "outputs": [
    {
     "name": "stdout",
     "output_type": "stream",
     "text": [
      "With cost minimized:\n",
      "Mass: 6500 kg \n",
      "Total cost: $8084.07\n",
      "C composition:  2.00%\n",
      "Cu composition:  0.60%\n",
      "Mn composition:  1.20%\n",
      "\n",
      "A: 4001.00 kg\n",
      "B: 999.17 kg\n",
      "C: 81.10 kg\n",
      "D:  0.00 kg\n",
      "E: 34.60 kg\n",
      "F: 1384.12 kg\n",
      "G:  0.00 kg\n",
      "\n",
      "Cost per kg: $ 1.24/kg\n"
     ]
    }
   ],
   "source": [
    "def metal_blend(mass, carbon, copper, manganese, data):\n",
    "    \n",
    "    # create lower and upper bounds from metal constraint inputs\n",
    "    lower_boundC = carbon[0]\n",
    "    upper_boundC = carbon[1]\n",
    "    lower_boundCu = copper[0]\n",
    "    upper_boundCu = copper[1]\n",
    "    lower_boundMn = manganese[0]\n",
    "    upper_boundMn = manganese[1]\n",
    "    \n",
    "    # create set of components\n",
    "    components = set(data.keys())\n",
    "    \n",
    "    # create variables\n",
    "    x = {c: cp.Variable(nonneg=True, name=c) for c in components}\n",
    "    \n",
    "    # create objective function\n",
    "    total_cost = sum(x[c]*data[c]['cost'] for c in components)\n",
    "    \n",
    "    # create list of constraints\n",
    "    constraints = [\n",
    "        # mass\n",
    "        mass == sum(x[c] for c in components),\n",
    "        # carbon\n",
    "        0 >= sum(x[c]*(data[c]['C'] - upper_boundC) for c in components),\n",
    "        0 <= sum(x[c]*(data[c]['C'] - lower_boundC) for c in components),\n",
    "        # copper\n",
    "        0 >= sum(x[c]*(data[c]['Cu'] - upper_boundCu) for c in components),\n",
    "        0 <= sum(x[c]*(data[c]['Cu'] - lower_boundCu) for c in components),\n",
    "        # manganese\n",
    "        0 >= sum(x[c]*(data[c]['Mn'] - upper_boundMn) for c in components),\n",
    "        0 <= sum(x[c]*(data[c]['Mn'] - lower_boundMn) for c in components),\n",
    "        # limits on each material\n",
    "        0 >= x['A'] - (data['A']['amount']+1),\n",
    "        0 >= x['B'] - data['B']['amount'],\n",
    "        0 >= x['C'] - data['C']['amount'],\n",
    "        0 >= x['D'] - data['D']['amount'],\n",
    "        0 >= x['E'] - data['E']['amount'],\n",
    "        0 >= x['F'] - data['F']['amount'],\n",
    "        0 >= x['G'] - data['G']['amount']\n",
    "\n",
    "\n",
    "    ]\n",
    "    \n",
    "    # create and solve problem\n",
    "    problem = cp.Problem(cp.Minimize(total_cost), constraints)\n",
    "    problem.solve()\n",
    "    \n",
    "    # return results\n",
    "    # min cost and optimal blend\n",
    "    min_cost = problem.value\n",
    "    optimal_blend = {c: x[c].value for c in components}\n",
    "    \n",
    "    # composition (averages) of C, Cu, Mn\n",
    "    avg_C = sum(x[c].value*data[c]['C'] for c in components) / mass \n",
    "    avg_Cu = sum(x[c].value*(data[c]['Cu']) for c in components) / mass\n",
    "    avg_Mn = sum(x[c].value*(data[c]['Mn']) for c in components) / mass\n",
    "\n",
    "    \n",
    "    return min_cost, optimal_blend, avg_C, avg_Cu, avg_Mn\n",
    "\n",
    "# define constant constraint variables\n",
    "mass = 6500\n",
    "carbon = [2.0, 3.0]\n",
    "copper = [0.4, 0.6]\n",
    "manganese = [1.2, 1.65]\n",
    "\n",
    "# execute function and print results\n",
    "min_cost, optimal_blend, avg_C, avg_Cu, avg_Mn = metal_blend(mass, carbon, copper, manganese, data)\n",
    "\n",
    "print('With cost minimized:')\n",
    "print(f\"Mass: {mass} kg \")\n",
    "print(f\"Total cost: ${min_cost:5.2f}\")\n",
    "print(f\"C composition: {avg_C:5.2f}%\")\n",
    "print(f\"Cu composition: {avg_Cu:5.2f}%\")\n",
    "print(f\"Mn composition: {avg_Mn:5.2f}%\")\n",
    "print()\n",
    "for c in sorted(optimal_blend.keys()):\n",
    "    print(f\"{c}: {optimal_blend[c]:5.2f}\", 'kg')\n",
    "    \n",
    "# cost per kg    \n",
    "print()\n",
    "print(f'Cost per kg: ${(min_cost/mass):5.2f}/kg')"
   ]
  },
  {
   "cell_type": "markdown",
   "metadata": {},
   "source": [
    "I save 0.36 dollars in total given 1 additional kg of A. Thus, I would be willing to pay the supplier <= an additional 0.36 dollars/kg for additional A, or <= $1.56/kg for additional A."
   ]
  },
  {
   "cell_type": "markdown",
   "metadata": {},
   "source": [
    "<!--NAVIGATION-->\n",
    "< [5.2 Linear Blending Problems](https://jckantor.github.io/cbe30338-2021/05.02-Linear-Blending-Problem.html) | [Contents](toc.html) | [Tag Index](tag_index.html) | [5.4 Gasoline Blending](https://jckantor.github.io/cbe30338-2021/05.04-Gasoline-Blending.html) ><p><a href=\"https://colab.research.google.com/github/jckantor/cbe30338-2021/blob/master/docs/05.03-Homework_5.ipynb\"> <img align=\"left\" src=\"https://colab.research.google.com/assets/colab-badge.svg\" alt=\"Open in Colab\" title=\"Open in Google Colaboratory\"></a><p><a href=\"https://jckantor.github.io/cbe30338-2021/05.03-Homework_5.ipynb\"> <img align=\"left\" src=\"https://img.shields.io/badge/Github-Download-blue.svg\" alt=\"Download\" title=\"Download Notebook\"></a>"
   ]
  }
 ],
 "metadata": {
  "colab": {
   "authorship_tag": "ABX9TyMII0RLURnK4dpAs76DwefW",
   "collapsed_sections": [],
   "name": "05.03-Homework_5.ipynb",
   "provenance": [
    {
     "file_id": "1KTIh_OFat5L8C2NAapN0DxQzfRkCbSBC",
     "timestamp": 1617821649285
    }
   ]
  },
  "kernelspec": {
   "display_name": "Python 3",
   "language": "python",
   "name": "python3"
  },
  "language_info": {
   "codemirror_mode": {
    "name": "ipython",
    "version": 3
   },
   "file_extension": ".py",
   "mimetype": "text/x-python",
   "name": "python",
   "nbconvert_exporter": "python",
   "pygments_lexer": "ipython3",
   "version": "3.8.5"
  }
 },
 "nbformat": 4,
 "nbformat_minor": 4
}
