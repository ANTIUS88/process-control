{
 "cells": [
  {
   "cell_type": "markdown",
   "metadata": {},
   "source": [
    "# Final Project Model: Aerobic and Anaerobic Digestion\n",
    "\n",
    "### Austin Booth, Dominick Cammuso, and Connor Wozniak\n",
    "\n",
    "This model will predict concentrations of biomass, glucose, ethanol, and glycerol over time given an input value of dissolved oxygen (DO). Constants and initial conditions are the same as, or adapted from, the dynamic model of Hjersted et al. Digestion is assumed to be occurring in a reactor containing Saccharomyces cerevisiae.\n",
    "\n",
    "# 1. Summary of Variables\n",
    "\n",
    "### X = biomass concentration\n",
    "Assume this is the measured process variable (component of y vector). Units: g/L. X0 = 0.1 g/L.\n",
    "\n",
    "### G = glucose concentration\n",
    "State variable. Input in biomass production. Units: g/L. G0 = 50 g/L. This will be treated as an MV, as glucose can be added to the reactor for continuous operation.\n",
    "\n",
    "### E = ethanol concentration\n",
    "Product of the reactor. Units: g/L. E0 = 0 g/L.\n",
    "For a control problem, ethanol can be set to have a constant removal rate and controlled at a certain concentration.\n",
    "\n",
    "### Y = glycerol concentration\n",
    "Product of the reactor. Assume this is an unmeasured byproduct. State variable. Units: g/L. Assume Y0 = 0 g/L.\n",
    "\n",
    "Glycerol concentration will be used as a simplified method of representing any unwanted byproduct with a higher molecular weight than ethanol or the biomass.\n",
    "\n",
    "### DO = dissolved oxygen concentration\n",
    "Manipulated variable. Input in biomass production. Not directly used in the state space model, but relevant to the linear optimization problem. DO can be regulated by a feedback controller (Hjersted et al.), but for simplification in our case, we will usually assume DO is either 1 (aerobic) or 0 (anaerobic).\n",
    "\n",
    "DO = O/Osat, where Osat = saturation conc. = 0.30 mmol/L. DO units: fraction saturation (unitless).\n",
    "\n",
    "\n",
    "\n"
   ]
  },
  {
   "cell_type": "markdown",
   "metadata": {},
   "source": [
    "# 2. Initial Calculations\n",
    "Preliminary parameters needed to create the digester model will be calculated here. These parameters will primarily be fluxes, expressed in units of mmol/g/h.\n",
    "\n",
    "## 2.1. Calculating Glucose and Oxygen Fluxes\n",
    "The following calculations will require the glucose and oxygen fluxes, or uptake rates, to be known. The allowed glucose flux can be calculated directly as\n",
    "\n",
    "$$v_g = v_{gm}\\frac{G}{K_g + G}\\frac{1}{1 + (E / K_{ie})}$$\n",
    "\n",
    "The allowed oxygen flux can be found by\n",
    "$$v_o = v_{om}\\frac{DO}{DO + (K_o / O_{sat})}$$\n",
    "\n",
    "Functions for calculating glucose and oxygen fluxes are given below."
   ]
  },
  {
   "cell_type": "code",
   "execution_count": 8,
   "metadata": {},
   "outputs": [
    {
     "name": "stdout",
     "output_type": "stream",
     "text": [
      "Allowed glucose flux at initial conditions is 19.802 mmol/g/h\n",
      "Allowed oxygen flux at maximum DO (aerobic) is 7.921 mmol/g/h\n",
      "Allowed oxygen flux in anaerobic conditions is 0.0 mmol/g/h\n"
     ]
    }
   ],
   "source": [
    "# define known constants\n",
    "v_gm = 20    # mmol/g/h\n",
    "K_g = 0.5    # g/L\n",
    "v_om = 8     # mmol/g/h\n",
    "K_o = 0.003  # mmol/L\n",
    "O_sat = 0.30 # mmol/L\n",
    "K_ie = 10    # g/L\n",
    "X0 = 0.1     # g/L\n",
    "G0 = 50      # g/L\n",
    "E0 = 0       # g/L\n",
    "Y0 = 0       # g/L\n",
    "\n",
    "# define function to calculate glucose flux, v_g\n",
    "def glucose(G, E):\n",
    "    v_g = v_gm * (G / (K_g + G)) * (1 / (1 + E/K_ie))\n",
    "    return v_g\n",
    "\n",
    "# define function to calculate oxygen flux, v_o\n",
    "def oxygen(DO):\n",
    "    v_o = v_om * DO / (DO + K_o/O_sat)\n",
    "    return v_o\n",
    "\n",
    "# test functions\n",
    "v_g = glucose(G0,E0)\n",
    "print('Allowed glucose flux at initial conditions is',round(v_g,3),'mmol/g/h')\n",
    "\n",
    "v_o = oxygen(1.0)\n",
    "print('Allowed oxygen flux at maximum DO (aerobic) is',round(v_o,3),'mmol/g/h')\n",
    "v_o2 = oxygen(0)\n",
    "print('Allowed oxygen flux in anaerobic conditions is',round(v_o2,3),'mmol/g/h')"
   ]
  },
  {
   "cell_type": "markdown",
   "metadata": {},
   "source": [
    "## 2.2. Simplified Linear Program\n",
    "In Hjersted et al., the cellular growth rate, or total allowed flux of biomass, is found by a linear program:\n",
    "\n",
    "\\begin{align}\n",
    "\\max {\\mu} & = \\sum_{j} w_j v_j\n",
    "\\end{align}\n",
    "\n",
    "where v for each component is its flux and w is its weight, subject to the constraints\n",
    "\n",
    "$$Av = 0$$ and $$v_{min} < v < v_{max}$$\n",
    "\n",
    "where A is a stoichiometric matrix of a metabolic network, v is a vector of fluxes, and v_min and v_max are vectors of upper and lower flux bounds.\n",
    "\n",
    "To simplify, we will assume that glucose and oxygen are the only relevant inputs to biomass production, and for further simplification, we will assume that their weights are both 1. Thus, in this highly simplified model, the cellular growth rate is equal to the allowed uptake rate of oxygen plus the allowed uptake rate of glucose."
   ]
  },
  {
   "cell_type": "code",
   "execution_count": 9,
   "metadata": {},
   "outputs": [
    {
     "name": "stdout",
     "output_type": "stream",
     "text": [
      "Total allowed cellular growth rate is 27.723 mmol/g/h\n"
     ]
    }
   ],
   "source": [
    "# calculate cellular growth rate\n",
    "mu = v_g + v_o\n",
    "\n",
    "print('Total allowed cellular growth rate is',round(mu,3),'mmol/g/h')"
   ]
  },
  {
   "cell_type": "markdown",
   "metadata": {},
   "source": [
    "## 2.3. Mass Balance\n",
    "\n",
    "The remaining fluxes were found in Hjersted et al. by using the matrix and vector constraints mentioned above. However, the stoichiometric matrices of the metabolic networks are extremely involved and not given in any detail in this paper, and they contain many times more variables than we are concerned with here. The maximum and minimum flux constraints are also not discussed at all in this paper. For this reason, we will solve for the ethanol and glyverol fluxes using a mass and a carbon balance.\n",
    "\n",
    "According to Lange et al. (https://onlinelibrary.wiley.com/doi/abs/10.1002/bit.10054), the molecular weight of S. cerevisiae biomass is 26.4 g/mol. The MW of glycerol is 92.094 g/mol, the MW of ethanol is 46.07 g/mol, the MW of glucose is 180.16 g/mol, and the MW of oxygen is 32.00 g/mol.\n",
    "\n",
    "Fluxes are expressed relative to total biomass concentration (X), and each species' rate of change is given by its respective flux times X. The units of vX in each case are \n",
    "$$\\frac{dA}{dt} = v_a*X = \\frac{mmol}{g*h}*\\frac{g}{L} = \\frac{mmol}{L*h} = \\frac{mM}{h}$$\n",
    "\n",
    "To find each species' rate of change in terms of its original mass-based units, we can take\n",
    "\n",
    "$$\\frac{dA_{true}}{dt} = v_a*X*MW_a*\\frac{1}{1000} = \\frac{mmol}{g*h}*\\frac{g}{L}*\\frac{g}{mol}*\\frac{mol}{mmol}\n",
    "= \\frac{g}{L*h}$$\n",
    "\n",
    "If we take out the common factor of X/1000 for each component and consider inputs and outputs, the mass balance can be simplified to:\n",
    "\n",
    "$$v_g MW_g + v_o MW_o - \\mu MW_x - v_e MW_e - v_y MW_y = 0$$\n",
    "\n",
    "We now need additional constraints to find both unknowns, v_e and v_y. As in Hjersted et al., our objective will be to maximize ethanol production, so we will set the objective to maximize ethanol flux with the arbitrary constraint that it must not exceed the total growth rate."
   ]
  },
  {
   "cell_type": "code",
   "execution_count": 108,
   "metadata": {},
   "outputs": [
    {
     "name": "stdout",
     "output_type": "stream",
     "text": [
      "Aerobic digestion with DO = 1 and initial conditions:\n",
      "27.722772276906497\n",
      "19.674688818967653\n",
      "G flux: 19.80 mmol/g/h\n",
      "O flux:  7.92 mmol/g/h\n",
      "E flux: 27.72 mmol/g/h\n",
      "Y flux: 19.67 mmol/g/h\n",
      "X flux: 27.72 mmol/g/h\n",
      "\n",
      "Anaerobic digestion with DO = 0 and initial conditions:\n",
      "G flux: 19.80 mmol/g/h\n",
      "O flux:  0.00 mmol/g/h\n",
      "E flux: 19.80 mmol/g/h\n",
      "Y flux: 23.16 mmol/g/h\n",
      "X flux: 19.80 mmol/g/h\n"
     ]
    }
   ],
   "source": [
    "import numpy as np\n",
    "import cvxpy as cp\n",
    "\n",
    "# enter molecular weights\n",
    "MW_x = 26.4    # g/mol\n",
    "MW_y = 92.094  # g/mol\n",
    "MW_e = 46.07   # g/mol\n",
    "MW_g = 180.16  # g/mol\n",
    "MW_o = 32.00   # g/mol\n",
    "\n",
    "# make relevant elements negative in data structure\n",
    "# contains unused H element from earlier v\n",
    "data = {\n",
    "    'X': {'MW': -MW_x},\n",
    "    'Y': {'MW': -MW_y},\n",
    "    'E': {'MW': -MW_e},\n",
    "    'G': {'MW': MW_g},\n",
    "    'O': {'MW': MW_o},\n",
    "}\n",
    "\n",
    "# create function that will solve mass balance to maximize ethanol flux\n",
    "def solve_EG(mu, v_g, v_o, data):\n",
    "    # create set of components\n",
    "    components = set(data.keys())\n",
    "    \n",
    "    # create variables\n",
    "    v = {c: cp.Variable(nonneg=True, name=c) for c in components}\n",
    "    \n",
    "    # create objective function\n",
    "    objective = cp.Maximize(v['E'])\n",
    "    \n",
    "    # create list of constraints\n",
    "    constraints = [\n",
    "\n",
    "        v['X'] == mu,\n",
    "        v['O'] == v_o,\n",
    "        v['G'] == v_g,\n",
    "        v['E'] <= mu,\n",
    "\n",
    "        0 == sum(v[c]*data[c]['MW'] for c in components),\n",
    "    ]\n",
    "    \n",
    "    # create and solve problem\n",
    "    problem = cp.Problem(objective, constraints)\n",
    "    problem.solve()\n",
    "    \n",
    "    # return results\n",
    "    v_e = problem.value\n",
    "    optimal_blend = {c: v[c].value for c in components}\n",
    "    v_e = optimal_blend['E']\n",
    "    v_y = optimal_blend['Y']\n",
    "    return v_e, v_y, optimal_blend\n",
    "\n",
    "\n",
    "# print results for DO = 1 and DO = 0\n",
    "print('Aerobic digestion with DO = 1 and initial conditions:')\n",
    "v_e, v_y, optimal_blend = solve_EG(mu,v_g,v_o,data)\n",
    "print(v_e)\n",
    "print(v_y)\n",
    "for c in (optimal_blend.keys()):\n",
    "    print(f\"{c} flux: {optimal_blend[c]:5.2f} mmol/g/h\")\n",
    "    \n",
    "print()\n",
    "print('Anaerobic digestion with DO = 0 and initial conditions:')\n",
    "v_e, v_y, optimal_blend = solve_EG((v_g + v_o2),v_g,v_o2,data)\n",
    "for c in (optimal_blend.keys()):\n",
    "    print(f\"{c} flux: {optimal_blend[c]:5.2f} mmol/g/h\")"
   ]
  },
  {
   "cell_type": "markdown",
   "metadata": {},
   "source": [
    "# 3. Nonlinear Model\n",
    "\n",
    "Now that we have a way to get fluxes for each component, we can use the series of differential equations from Hjersted et al. to develop a time-dependent model of the reactor. The paper's equations are multiplied by molecular weight and divided by 1000 to get d[A]/dt in units of g/h instead of mM/h.\n",
    "\n",
    "For future use, we will add R, the input rate of glucose, in g/h.\n",
    "\n",
    "\\begin{align}\n",
    "\\frac{dX}{dt} & = \\mu X * MW_x / 1000\\\\\n",
    "\\frac{dG}{dt} & = -v_g X * MW_g / 1000 + R_{input}(t)\\\\\n",
    "\\frac{dE}{dt} & = v_e X * MW_e / 1000\\\\\n",
    "\\frac{dY}{dt} & = v_y X * MW_y / 1000\\\\\n",
    "\\end{align}\n",
    "\n",
    "where mu, v_g, v_e, and v_y are all dependent on G, E, and DO. This model will be derived below similarly to in Notebook 2.4."
   ]
  },
  {
   "cell_type": "code",
   "execution_count": 109,
   "metadata": {},
   "outputs": [
    {
     "data": {
      "image/png": "[encoded data removed]",
      "text/plain": [
       "<Figure size 432x288 with 1 Axes>"
      ]
     },
     "metadata": {
      "needs_background": "light"
     },
     "output_type": "display_data"
    }
   ],
   "source": [
    "%matplotlib inline\n",
    "import numpy as np\n",
    "import pandas as pd\n",
    "import matplotlib.pyplot as plt\n",
    "from scipy.integrate import solve_ivp\n",
    "\n",
    "# create function to determine value of DO over time\n",
    "def DO_MV(t):\n",
    "    DO = 1.0\n",
    "    return DO\n",
    "\n",
    "# create function to set glucose addition rate R as an MV\n",
    "def Radd(t):\n",
    "    R = 0\n",
    "    return R\n",
    "\n",
    "# create time vector\n",
    "t_expt = np.linspace(0,15,50)\n",
    "\n",
    "def model_second_order(plot=False):    \n",
    "\n",
    "    # model solution\n",
    "    def deriv(t, y):\n",
    "        # unpack variables\n",
    "        X, G, E, Y = y\n",
    "        \n",
    "        # calculate parameters\n",
    "        DO = DO_MV(t)\n",
    "        v_o = oxygen(DO)\n",
    "        \n",
    "        # prevent model from failing by stopping growth once glucose is depleted\n",
    "        if G - Radd(t) > 0:\n",
    "            v_g = glucose(G, E)\n",
    "            mu = v_o + v_g\n",
    "        else:\n",
    "            v_g = 0\n",
    "            mu = 0\n",
    "            v_o = 0\n",
    "        \n",
    "        v_e, v_y, optimal_blend = solve_EG(mu, v_g, v_o, data)\n",
    "        \n",
    "        \n",
    "        dX = mu * X * MW_x / 1000\n",
    "        dG = -v_g * X * MW_g / 1000 + Radd(t)\n",
    "        dE = v_e * X * MW_e / 1000\n",
    "        dY = v_y * X * MW_y / 1000\n",
    "\n",
    "        return [dX, dG, dE, dY]\n",
    "\n",
    "    soln = solve_ivp(deriv, [min(t_expt), max(t_expt)], [X0, G0, E0, Y0], t_eval=t_expt) \n",
    "    \n",
    "    # create vectors with predictions\n",
    "    Xpred = soln.y[0]\n",
    "    Gpred = soln.y[1]\n",
    "    Epred = soln.y[2]\n",
    "    Ypred = soln.y[3]\n",
    "\n",
    "\n",
    "    # plot solution\n",
    "    if plot:\n",
    "        plt.plot(t_expt, Xpred, t_expt, Gpred, t_expt, Epred, t_expt, Ypred)\n",
    "        plt.xlabel('Time (hours)')\n",
    "        plt.ylabel('g/L')\n",
    "        plt.legend(['Biomass','Glucose','Ethanol','Glycerol or waste'])\n",
    "    \n",
    "model_second_order(plot=True)"
   ]
  },
  {
   "cell_type": "code",
   "execution_count": 110,
   "metadata": {},
   "outputs": [
    {
     "data": {
      "image/png": "[encoded data removed]",
      "text/plain": [
       "<Figure size 432x288 with 1 Axes>"
      ]
     },
     "metadata": {
      "needs_background": "light"
     },
     "output_type": "display_data"
    }
   ],
   "source": [
    "# with DO = 0\n",
    "def DO_MV(t):\n",
    "    DO = 0\n",
    "    return DO\n",
    "model_second_order(plot=True)"
   ]
  },
  {
   "cell_type": "code",
   "execution_count": 111,
   "metadata": {},
   "outputs": [
    {
     "data": {
      "image/png": "[encoded data removed]",
      "text/plain": [
       "<Figure size 432x288 with 1 Axes>"
      ]
     },
     "metadata": {
      "needs_background": "light"
     },
     "output_type": "display_data"
    }
   ],
   "source": [
    "# create time vector\n",
    "t_expt = np.linspace(0,15,25)\n",
    "\n",
    "# with DO = 1 and a glucose addition rate of 1 g/h\n",
    "def DO_MV(t):\n",
    "    DO = 1.0\n",
    "    return DO\n",
    "\n",
    "def Radd(t):\n",
    "    R = 1\n",
    "    return R\n",
    "\n",
    "model_second_order(plot=True)"
   ]
  },
  {
   "cell_type": "markdown",
   "metadata": {},
   "source": [
    "# 4. Linear State-Space Model\n",
    "\n",
    "## 4.1. Derivation\n",
    "A linear state-space model can be constructed by simplifying some complications of the nonlinearly concentration-dependent expressions for fluxes.\n",
    "\n",
    "For aerobic digestion, assuming DO >> 0.01, we can approximate $$v_o = v_{om}$$\n",
    "For anaerobic digestion, $$v_o = 0$$\n",
    "\n",
    "Notably, this result is suitable for relay control; i.e., on-off switching between aerobic and anaerobic conditions. If we assume that DO control is relay (1 or 0), we can say that $$v_o = v_{om}*DO$$\n",
    "\n",
    "though this result is not very useful for the state space model since it will introduce higher-order dependence.\n",
    "\n",
    "Also, if we assume G >> Kg and E << K_ie for the entire reaction, we can approximate \n",
    "$$v_g = v_{gm}\\frac{G}{G}\\frac{1}{1} = v_{gm}$$\n",
    "\n",
    "Next, we are treating maximum allowed growth rate as the sum of oxygen and glucose flux, so (under aerobic digestion)\n",
    "$$\\mu = v_{gm} + v_{om}$$\n",
    "\n",
    "To simplify the optimization problem's constraints, we can set growth rate equal to ethanol flux, so\n",
    "$$v_e = v_{gm} + v_{om}$$\n",
    "\n",
    "Finally, by solving the mass balance,\n",
    "$$v_y = \\frac{v_{gm}*MW_g + v_{om}*MW_o - (v_{gm} + v_{om})*(MW_x + MW_e)}{MW_y}$$\n",
    "\n",
    "\n",
    "## 4.2. Differential Equation Format\n",
    "\n",
    "Under anaerobic digestion, any v_om terms can be set to 0.\n",
    "\n",
    "Here, we will also introduce a rate of ethanol removal, U_removal. This will be a second MV.\n",
    "\n",
    "\\begin{align}\n",
    "\\frac{dX}{dt} & = (v_{gm} + v_{om}) X * MW_x / 1000\\\\\n",
    "\\frac{dG}{dt} & = -v_{gm} X * MW_g / 1000 + R_{input}(t)\\\\\n",
    "\\frac{dE}{dt} & = (v_{gm} + v_{om}) X * MW_e / 1000 - U_{removal}(t)\\\\\n",
    "\\frac{dY}{dt} & = \\frac{v_{gm}MW_g + v_{om}MW_o - (v_{gm} + v_{om})(MW_x + MW_e)}{MW_y} X * MW_y / 1000\\\\\n",
    "\\end{align}"
   ]
  },
  {
   "cell_type": "markdown",
   "metadata": {},
   "source": [
    "## 4.3. State Space Format\n",
    "\n",
    "(Disturbance variable and vector to be determined.)\n",
    "\n",
    "\n",
    "\\begin{align}\n",
    "\\frac{d}{dt}\\underbrace{\\left[\\begin{array}{c} X \\\\ G \\\\ E \\\\ Y \\end{array}\\right]}_x\n",
    "& = \n",
    "\\underbrace{\\left[\\begin{array}{cccc}\n",
    "\\frac{(v_{gm} + v_{om})MW_x}{1000} & 0 & 0 & 0 \\\\\n",
    "-\\frac{v_{gm}MW_g}{1000} & 0 & 0 & 0 \\\\\n",
    "\\frac{(v_{gm} + v_{om})MW_e}{1000} & 0 & 0 & 0 \\\\\n",
    "\\frac{v_{gm}MW_g + v_{om}MW_o - (v_{gm} + v_{om})(MW_x + MW_e)}{1000} & 0 & 0 & 0\n",
    "\\end{array}\\right]}_A\n",
    "\\underbrace{\\left[\\begin{array}{c}X \\\\ G \\\\ E \\\\ Y\\end{array}\\right]}_x\n",
    "+\n",
    "\\underbrace{\\left[\\begin{array}{cc}0 & 0 \\\\ 1 & 0 \\\\ 0 & -1 \\\\ 0 & 0 \\end{array}\\right]}_{B_u}\n",
    "\\underbrace{\\left[\\begin{array}{c}R_{input} \\\\ U_{removal}\\end{array}\\right]}_u\n",
    "+\n",
    "\\underbrace{\\left[\\begin{array}{c}0 \\\\ 0 \\\\ 0 \\\\ 0 \\end{array}\\right]}_{B_d}\n",
    "\\underbrace{\\left[\\begin{array}{c}0\\end{array}\\right]}_{d}\n",
    "\\end{align}\n",
    "\n",
    "\\begin{align}\n",
    "\\underbrace{\\left[\\begin{array}{c} X_{meas} \\end{array}\\right]}_y\n",
    "& = \n",
    "\\underbrace{\\left[\\begin{array}{cccc} 1 & 0 & 0 & 0 \\end{array}\\right]}_C\n",
    "\\underbrace{\\left[\\begin{array}{c}X \\\\ G \\\\ E \\\\ Y\\end{array}\\right]}_x\n",
    "\\end{align}\n",
    "\n",
    "## 4.4. Approximate State Space Model\n",
    "\n",
    "This model will be constructed in the code below."
   ]
  },
  {
   "cell_type": "code",
   "execution_count": 113,
   "metadata": {},
   "outputs": [
    {
     "name": "stdout",
     "output_type": "stream",
     "text": [
      "A:\n",
      "[[ 0.7392   0.       0.       0.     ]\n",
      " [-3.6032   0.       0.       0.     ]\n",
      " [ 1.28996  0.       0.       0.     ]\n",
      " [ 1.83004  0.       0.       0.     ]]\n",
      "Bu:\n",
      "[[ 0  0]\n",
      " [ 1  0]\n",
      " [ 0 -1]\n",
      " [ 0  0]]\n",
      "C:\n",
      "[[1 0 0 0]]\n"
     ]
    }
   ],
   "source": [
    "%matplotlib inline\n",
    "import numpy as np\n",
    "import pandas as pd\n",
    "import matplotlib.pyplot as plt\n",
    "from scipy.integrate import solve_ivp\n",
    "\n",
    "# define known constants\n",
    "v_gm = 20    # mmol/g/h\n",
    "K_g = 0.5    # g/L\n",
    "v_om = 8     # mmol/g/h\n",
    "K_o = 0.003  # mmol/L\n",
    "O_sat = 0.30 # mmol/L\n",
    "K_ie = 10    # g/L\n",
    "X0 = 0.1     # g/L\n",
    "G0 = 50      # g/L\n",
    "E0 = 0       # g/L\n",
    "Y0 = 0       # g/L\n",
    "MW_x = 26.4    # g/mol\n",
    "MW_y = 92.094  # g/mol\n",
    "MW_e = 46.07   # g/mol\n",
    "MW_g = 180.16  # g/mol\n",
    "MW_o = 32.00   # g/mol\n",
    "\n",
    "\n",
    "A = np.array([[(v_gm + v_om)*MW_x / 1000, 0, 0, 0], \n",
    "              [-v_gm*MW_g/1000, 0, 0, 0],\n",
    "              [(v_gm + v_om)*MW_e / 1000, 0, 0, 0],\n",
    "              [(v_gm*MW_g + v_om*MW_o - (v_gm + v_om)*(MW_x + MW_e))/1000, 0, 0, 0]])\n",
    "\n",
    "Bu = np.array([[0, 0], [1, 0], [0, -1], [0, 0]])\n",
    "\n",
    "C = np.array([[1, 0, 0, 0]])\n",
    "\n",
    "# initial values for states and inputs\n",
    "u_initial = np.array([0, 0])\n",
    "x_initial = np.array([X0, G0, E0, Y0])\n",
    "\n",
    "print('A:')\n",
    "print(A)\n",
    "print('Bu:')\n",
    "print(Bu)\n",
    "print('C:')\n",
    "print(C)"
   ]
  },
  {
   "cell_type": "code",
   "execution_count": 118,
   "metadata": {},
   "outputs": [
    {
     "name": "stdout",
     "output_type": "stream",
     "text": [
      "[[ 0.528   0.      0.      0.    ]\n",
      " [-3.6032  0.      0.      0.    ]\n",
      " [ 0.9214  0.      0.      0.    ]\n",
      " [ 2.1538  0.      0.      0.    ]]\n"
     ]
    }
   ],
   "source": [
    "# define different A for special cases\n",
    "# if initial glucose is depleted and glucose flux drops to 0:\n",
    "\n",
    "# a relationship for this will have to be determined at a later date to allow small amounts of input\n",
    "# glucose addition to continue the process without continuing exponential growth. For now, we will treat it as 0.\n",
    "\n",
    "\n",
    "# if process is anaerobic and all oxygen flux is 0:\n",
    "A_anaerobic = np.array([[(v_gm)*MW_x / 1000, 0, 0, 0], \n",
    "              [-v_gm*MW_g/1000, 0, 0, 0],\n",
    "              [(v_gm)*MW_e / 1000, 0, 0, 0],\n",
    "              [(v_gm*MW_g - (v_gm)*(MW_x + MW_e))/1000, 0, 0, 0]])\n",
    "print(A_anaerobic)"
   ]
  },
  {
   "cell_type": "code",
   "execution_count": 119,
   "metadata": {},
   "outputs": [],
   "source": [
    "# define aerobic and anaerobic models assuming no process recovery after glucose is depleted\n",
    "\n",
    "def aerobic_model():\n",
    "    # initialize variables\n",
    "    t_now = 0\n",
    "    x_now = x_initial\n",
    "    \n",
    "    while True:\n",
    "        # yield current state, get MV for next period\n",
    "        t_next, R_input, U_removal = yield x_now\n",
    "        \n",
    "        # if glucose not depleted:\n",
    "        if x_now[1] - R_input > 0:\n",
    "            # compute next state\n",
    "            u = [R_input, U_removal]\n",
    "            x_next = x_now + (t_next - t_now)*(np.dot(A, x_now) + np.dot(Bu, u))\n",
    "            \n",
    "        # if glucose is depleted, for now stop all growth (this can be updated with a more complex model later)\n",
    "        else:\n",
    "            x_next = x_now\n",
    "        \n",
    "        # update time and state\n",
    "        t_now = t_next\n",
    "        x_now = x_next\n",
    "        \n",
    "def anaerobic_model():\n",
    "    # initialize variables\n",
    "    t_now = 0\n",
    "    x_now = x_initial\n",
    "    \n",
    "    while True:\n",
    "        # yield current state, get MV for next period\n",
    "        t_next, R_input, U_removal = yield x_now\n",
    "        \n",
    "        # if glucose not depleted:\n",
    "        if x_now[1] - R_input > 0:\n",
    "            # compute next state\n",
    "            u = [R_input, U_removal]\n",
    "            x_next = x_now + (t_next - t_now)*(np.dot(A_anaerobic, x_now) + np.dot(Bu, u))\n",
    "            \n",
    "        # if glucose is depleted, for now stop all growth (this will be updated for more complex model later)\n",
    "        else:\n",
    "            x_next = x_now\n",
    "        \n",
    "        # update time and state\n",
    "        t_now = t_next\n",
    "        x_now = x_next"
   ]
  },
  {
   "cell_type": "code",
   "execution_count": 120,
   "metadata": {},
   "outputs": [],
   "source": [
    "# set glucose input and ethanol removal functions (both 0 for now)\n",
    "def Ginput(t):\n",
    "    R_input = 0\n",
    "    return R_input\n",
    "\n",
    "def Eremoval(t):\n",
    "    U_removal = 0\n",
    "    return R"
   ]
  },
  {
   "cell_type": "code",
   "execution_count": 125,
   "metadata": {},
   "outputs": [
    {
     "data": {
      "image/png": "[encoded data removed]",
      "text/plain": [
       "<Figure size 640x360 with 3 Axes>"
      ]
     },
     "metadata": {},
     "output_type": "display_data"
    },
    {
     "name": "stdout",
     "output_type": "stream",
     "text": [
      "TCLab Model disconnected successfully.\n"
     ]
    },
    {
     "data": {
      "image/png": "[encoded data removed]",
      "text/plain": [
       "<Figure size 640x360 with 3 Axes>"
      ]
     },
     "metadata": {
      "needs_background": "light"
     },
     "output_type": "display_data"
    }
   ],
   "source": [
    "from tclab import setup, clock, Historian, Plotter\n",
    "TCLab = setup(connected=False, speedup = 2)\n",
    "\n",
    "t_final = 600        # run time (minutes)\n",
    "\n",
    "# create model instance\n",
    "model = aerobic_model()\n",
    "X, G, E, Y = next(model)\n",
    "\n",
    "# execute the event loop\n",
    "with TCLab() as lab:\n",
    "    h = Historian([('X', lambda: X), ('G', lambda: G), ('E', lambda: E), \n",
    "                   ('Y', lambda: Y)])\n",
    "    p = Plotter(h, t_final, layout=[['X', 'G', 'E'], ['G'], ['X','E','Y']])\n",
    "    for t in clock(t_final):\n",
    "        \n",
    "        R = Ginput(t/60)                       # get a new MV\n",
    "        U = Eremoval(t/60)\n",
    "        \n",
    "        X, G, E, Y = model.send([t/60, R, U])       # update estimates for the current Th, Ts\n",
    "        p.update(t)"
   ]
  },
  {
   "cell_type": "markdown",
   "metadata": {},
   "source": [
    "### Note: Time above actually in minutes."
   ]
  },
  {
   "cell_type": "code",
   "execution_count": null,
   "metadata": {},
   "outputs": [],
   "source": []
  }
 ],
 "metadata": {
  "kernelspec": {
   "display_name": "Python 3",
   "language": "python",
   "name": "python3"
  },
  "language_info": {
   "codemirror_mode": {
    "name": "ipython",
    "version": 3
   },
   "file_extension": ".py",
   "mimetype": "text/x-python",
   "name": "python",
   "nbconvert_exporter": "python",
   "pygments_lexer": "ipython3",
   "version": "3.8.5"
  }
 },
 "nbformat": 4,
 "nbformat_minor": 4
}
