{
 "cells": [
  {
   "cell_type": "markdown",
   "metadata": {},
   "source": [
    "# Lab Assignment 5\n",
    "\n",
    "## Austin Booth\n",
    "\n",
    "Link: \n",
    "\n",
    "### Exercise 1\n"
   ]
  },
  {
   "cell_type": "markdown",
   "metadata": {},
   "source": [
    "#### Four-State Model\n",
    "\n",
    "\\begin{align}\n",
    "\\frac{dT_{H,1}}{dt} & = -(\\frac{U_a+U_b+U_c}{C^H_p})T_{H,1} + \\frac{U_b}{C^H_p}T_{S,1} + \\frac{U_c}{C^H_p}T_{H,2}  + \\frac{\\alpha P_1}{C^H_p}u_1 + \\frac{U_a}{C^H_p}T_{amb}\\\\\n",
    "\\frac{dT_{S,1}}{dt} & = \\frac{U_b}{C^S_p}(T_{H,1} - T_{S,1})  \\\\\n",
    "\\frac{dT_{H,2}}{dt} & = -(\\frac{U_a+U_b+U_c}{C^H_p})T_{H,2} + \\frac{U_b}{C^H_p}T_{S,2} + \\frac{U_c}{C^H_p}T_{H,1}  + \\frac{\\alpha P_2}{C^H_p}u_2 + \\frac{U_a}{C^H_p}T_{amb}\\\\\n",
    "\\frac{dT_{S,2}}{dt} & = \\frac{U_b}{C^S_p}(T_{H,2} - T_{S,2}) \n",
    "\\end{align}\n",
    "\n",
    "where\n",
    "\n",
    "\\begin{align}\n",
    "T_1 & = T_{S,1} \\\\\n",
    "T_2 & = T_{S,2}\n",
    "\\end{align}\n",
    "\n",
    "#### Parameters for Four-State Model (from Lab 2)\n",
    "Heater heat capacity: 8.77 J/K\n",
    "\n",
    "Sensor heat capacity: 2.91 J/K\n",
    "\n",
    "Ua: 0.050 W/K\n",
    "\n",
    "Ub: 0.273 W/K\n",
    "\n",
    "Uc: 0.039 W/K"
   ]
  },
  {
   "cell_type": "markdown",
   "metadata": {},
   "source": [
    "### Exercise 2\n",
    "\n",
    "\\begin{align}\n",
    "\\frac{dx}{dt} & = A x + B_u u + B_d d \\\\\n",
    "y & = C x\n",
    "\\end{align}\n"
   ]
  },
  {
   "cell_type": "markdown",
   "metadata": {},
   "source": [
    "where\n",
    "\n",
    "$$x = \\begin{bmatrix} T_{H,1} \\\\ T_{S,1} \\\\ T_{H,2} \\\\ T_{S,2} \\end{bmatrix}\n",
    "\\qquad\n",
    "u = \\begin{bmatrix} u_1 \\\\ u_2 \\end{bmatrix}\n",
    "\\qquad\n",
    "d = \\begin{bmatrix} T_{amb} \\end{bmatrix}\n",
    "\\qquad\n",
    "y = \\begin{bmatrix} T_{S,1} \\\\ T_{S,2} \\end{bmatrix}$$\n",
    "\n",
    "Without filling in constants or formatting yet: (constants of same letter are different for every line)\n",
    "\n",
    "d(TH1)/dt = a(TH1) + b(TS1) + c(TH2) + 0(TS2) + d(u1) + 0(u2) + e(Tamb)\n",
    "\n",
    "d(TS1)/dt = a(TH1) + b(TS1) + 0(TH2) + 0(TS2) + 0(u1) + 0(u2) + 0(Tamb)\n",
    "\n",
    "d(TH2)/dt = a(TH1) + 0(TS1) + b(TH2) + c(TS2) + 0(u1) + d(u2) + e(Tamb)\n",
    "\n",
    "d(TS2)/dt = 0(TH1) + 0(TS1) + a(TH2) + b(TS2) + 0(u1) + 0(u2) + 0(Tamb)\n",
    "\n",
    "T1 = 0 + TS1 + 0 + 0\n",
    "\n",
    "T2 = 0 + 0 + 0 + TS2\n",
    "\n",
    "Filling in:\n",
    "\n",
    "\n",
    "\n",
    "$$A = \\begin{bmatrix} -\\frac{U_a+U_b+U_c}{C^H_p} & \\frac{U_b}{C^H_p} & \\frac{U_c}{C^H_p} & 0 \\\\ \\frac{U_b}{C^S_p} & -\\frac{U_b}{C^S_p} & 0 & 0 \\\\ \\frac{U_c}{C^H_p} & 0 & -\\frac{U_a+U_b+U_c}{C^H_p} & \\frac{U_b}{C^H_p} \\\\ 0 & 0 & \\frac{U_b}{C^S_p} & -\\frac{U_b}{C^S_p} \\end{bmatrix}\n",
    "\\qquad\n",
    "B_u = \\begin{bmatrix} \\frac{\\alpha P_1}{C^H_p} & 0 \\\\ 0 & 0 \\\\ 0 & \\frac{\\alpha P_2}{C^H_p} \\\\ 0 & 0 \\end{bmatrix}\n",
    "\\qquad\n",
    "B_d = \\begin{bmatrix} \\frac{U_a}{C_p^H} \\\\ 0 \\\\ \\frac{U_a}{C_p^H} \\\\ 0 \\end{bmatrix}\n",
    "\\qquad\n",
    "C = \\begin{bmatrix} 0 & 1 & 0 & 0 \\\\ 0 & 0 & 0 & 1 \\end{bmatrix}$$"
   ]
  },
  {
   "cell_type": "code",
   "execution_count": null,
   "metadata": {},
   "outputs": [],
   "source": []
  }
 ],
 "metadata": {
  "kernelspec": {
   "display_name": "Python 3",
   "language": "python",
   "name": "python3"
  },
  "language_info": {
   "codemirror_mode": {
    "name": "ipython",
    "version": 3
   },
   "file_extension": ".py",
   "mimetype": "text/x-python",
   "name": "python",
   "nbconvert_exporter": "python",
   "pygments_lexer": "ipython3",
   "version": "3.8.5"
  }
 },
 "nbformat": 4,
 "nbformat_minor": 4
}
