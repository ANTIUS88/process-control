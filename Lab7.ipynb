{
 "cells": [
  {
   "cell_type": "markdown",
   "metadata": {},
   "source": [
    "<!--NOTEBOOK_HEADER-->\n",
    "*This notebook contains material from [cbe30338-2021](https://jckantor.github.io/cbe30338-2021);\n",
    "content is available [on Github](https://github.com/jckantor/cbe30338-2021.git).*\n"
   ]
  },
  {
   "cell_type": "markdown",
   "metadata": {},
   "source": [
    "<!--NAVIGATION-->\n",
    "< [6.0 Predictive Control](https://jckantor.github.io/cbe30338-2021/06.00-Predictive-Control.html) | [Contents](toc.html) | [Tag Index](tag_index.html) | [7.0 Projects](https://jckantor.github.io/cbe30338-2021/07.00-Projects.html) ><p><a href=\"https://colab.research.google.com/github/jckantor/cbe30338-2021/blob/master/docs/06.01-Static-Operability.ipynb\"> <img align=\"left\" src=\"https://colab.research.google.com/assets/colab-badge.svg\" alt=\"Open in Colab\" title=\"Open in Google Colaboratory\"></a><p><a href=\"https://jckantor.github.io/cbe30338-2021/06.01-Static-Operability.ipynb\"> <img align=\"left\" src=\"https://img.shields.io/badge/Github-Download-blue.svg\" alt=\"Download\" title=\"Download Notebook\"></a>"
   ]
  },
  {
   "cell_type": "markdown",
   "metadata": {},
   "source": [
    "# Lab Assignment 7\n",
    "\n",
    "## Austin Booth\n",
    "\n",
    "Link:"
   ]
  },
  {
   "cell_type": "markdown",
   "metadata": {
    "nbpages": {
     "level": 1,
     "link": "[6.1 Static Operability](https://jckantor.github.io/cbe30338-2021/06.01-Static-Operability.html#6.1-Static-Operability)",
     "section": "6.1 Static Operability"
    }
   },
   "source": [
    "# 6.1 Static Operability\n",
    "\n",
    "**Static operability** refers to the ability to operate a system under steady-state conditions. We are primarily interested in determining values for the manipulable inputs that acheive a desired process target, subject to all relevant operating constraints."
   ]
  },
  {
   "cell_type": "markdown",
   "metadata": {
    "nbpages": {
     "level": 3,
     "link": "[6.1.1 State Space Model](https://jckantor.github.io/cbe30338-2021/06.01-Static-Operability.html#6.1.1-State-Space-Model)",
     "section": "6.1.1 State Space Model"
    }
   },
   "source": [
    "### 6.1.1 State Space Model"
   ]
  },
  {
   "cell_type": "markdown",
   "metadata": {
    "nbpages": {
     "level": 3,
     "link": "[6.1.1 State Space Model](https://jckantor.github.io/cbe30338-2021/06.01-Static-Operability.html#6.1.1-State-Space-Model)",
     "section": "6.1.1 State Space Model"
    }
   },
   "source": [
    "The state-space model for the Temperature Control Laboratory is given by\n",
    "\n",
    "\\begin{align}\n",
    "\\frac{dx}{dt} & = A x + B_u u + B_d d \\\\\n",
    "y & = C x\n",
    "\\end{align}\n",
    "\n",
    "where the structure of the matrix parameters and vector variables is given by\n",
    "\n",
    "\\begin{align}\n",
    "\\frac{d}{dt}\\underbrace{\\left[\\begin{array}{c} T_{H,1} \\\\ T_{S,1} \\\\ T_{H,2} \\\\ T_{S,2} \\end{array}\\right]}_x\n",
    "& = \n",
    "\\underbrace{\\left[\\begin{array}{cccc}\n",
    "-(\\frac{U_a+U_b+U_c}{C^H_p}) & \\frac{U_b}{C^H_p} & \\frac{U_c}{C^H_p} & 0 \\\\\n",
    "\\frac{U_b}{C^S_p} & -\\frac{U_b}{C^S_p} & 0 & 0 \\\\\n",
    "\\frac{U_c}{C^H_p} & 0 & -(\\frac{U_a+U_b+U_c}{C^H_p}) & \\frac{U_b}{C^H_p} \\\\\n",
    "0 & 0 & \\frac{U_b}{C^S_p} & -\\frac{U_b}{C^S_p}\n",
    "\\end{array}\\right]}_A\n",
    "\\underbrace{\\left[\\begin{array}{c}T_{H,1} \\\\ T_{S,1} \\\\ T_{H,2} \\\\ T_{S,2}\\end{array}\\right]}_x\n",
    "+\n",
    "\\underbrace{\\left[\\begin{array}{cc}\\frac{\\alpha P_1}{C_p} & 0 \\\\ 0 & 0 \\\\ 0 & \\frac{\\alpha P_2}{C_p} \\\\ 0 & 0 \\end{array}\\right]}_{B_u}\n",
    "\\underbrace{\\left[\\begin{array}{c}u_1 \\\\ u_2\\end{array}\\right]}_u\n",
    "+\n",
    "\\underbrace{\\left[\\begin{array}{c}\\frac{U_a}{C^H_p} \\\\ 0 \\\\ \\frac{U_a}{C^H_p} \\\\ 0 \\end{array}\\right]}_{B_d}\n",
    "\\underbrace{\\left[\\begin{array}{c}T_{amb}\\end{array}\\right]}_{d}\n",
    "\\end{align}\n",
    "\n",
    "\\begin{align}\n",
    "\\underbrace{\\left[\\begin{array}{c} T_1 \\\\ T_2 \\end{array}\\right]}_y\n",
    "& = \n",
    "\\underbrace{\\left[\\begin{array}{cccc} 0 & 1 & 0 & 0 \\\\ 0 & 0 & 0 & 1 \\end{array}\\right]}_C\n",
    "\\underbrace{\\left[\\begin{array}{c}T_{H,1} \\\\ T_{S,1} \\\\ T_{H,2} \\\\ T_{S,2}\\end{array}\\right]}_x\n",
    "\\end{align}"
   ]
  },
  {
   "cell_type": "markdown",
   "metadata": {
    "nbpages": {
     "level": 2,
     "link": "[6.1.1 Steady State Operability](https://jckantor.github.io/cbe30338-2021/06.01-Static-Operability.html#6.1.1-Steady-State-Operability)",
     "section": "6.1.1 Steady State Operability"
    }
   },
   "source": [
    "## 6.1.1 Steady State Operability"
   ]
  },
  {
   "cell_type": "markdown",
   "metadata": {
    "nbpages": {
     "level": 2,
     "link": "[6.1.2 Steady State Model](https://jckantor.github.io/cbe30338-2021/06.01-Static-Operability.html#6.1.2-Steady-State-Model)",
     "section": "6.1.2 Steady State Model"
    }
   },
   "source": [
    "## 6.1.2 Steady State Model\n",
    "\n",
    "At steady-state our becomes\n",
    "\n",
    "\\begin{align}\n",
    "0 & = A \\bar{x} + B_u\\bar{u} + B_d\\bar{d} \\\\\n",
    "\\bar{y} & = C \\bar{x} \\\\\n",
    "\\end{align}\n",
    "\n",
    "where the overbar $\\bar{u}$, $\\bar{x}$, and $\\bar{y}$ denote the steady-state value of $u$, $x$, and $y$, respectively. We assume $\\bar{d}$ is known."
   ]
  },
  {
   "cell_type": "markdown",
   "metadata": {
    "nbpages": {
     "level": 3,
     "link": "[6.1.2.1 Steady-State input constraints](https://jckantor.github.io/cbe30338-2021/06.01-Static-Operability.html#6.1.2.1-Steady-State-input-constraints)",
     "section": "6.1.2.1 Steady-State input constraints"
    }
   },
   "source": [
    "### 6.1.2.1 Steady-State input constraints\n",
    "\n",
    "The constraints on $\\bar{u}$ are given by upper and lower bounds\n",
    "\n",
    "\\begin{align}\n",
    "0 & \\leq \\bar{u}_1 \\leq 100 \\\\\n",
    "0 & \\leq \\bar{u}_2 \\leq 100 \n",
    "\\end{align}\n",
    "\n",
    "when the values of $u_1$ and $u_2$ correspond to percentage of maximum power. "
   ]
  },
  {
   "cell_type": "markdown",
   "metadata": {
    "nbpages": {
     "level": 3,
     "link": "[6.1.2.2 Steady-State output constraints](https://jckantor.github.io/cbe30338-2021/06.01-Static-Operability.html#6.1.2.2-Steady-State-output-constraints)",
     "section": "6.1.2.2 Steady-State output constraints"
    }
   },
   "source": [
    "### 6.1.2.2 Steady-State output constraints\n",
    "\n",
    "We will assume there are upper limits for each of the temperature outputs\n",
    "\n",
    "\\begin{align}\n",
    "\\bar{y}_1 & \\leq \\bar{y}_1^{max} \\\\\n",
    "\\bar{y}_2 & \\leq \\bar{y}_2^{max}\n",
    "\\end{align}\n",
    "\n",
    "when the values of $u_1$ and $u_2$ correspond to percentage of maximum power. "
   ]
  },
  {
   "cell_type": "markdown",
   "metadata": {
    "nbpages": {
     "level": 3,
     "link": "[6.1.2.3 Steady-State setpoint targets or ranges](https://jckantor.github.io/cbe30338-2021/06.01-Static-Operability.html#6.1.2.3-Steady-State-setpoint-targets-or-ranges)",
     "section": "6.1.2.3 Steady-State setpoint targets or ranges"
    }
   },
   "source": [
    "### 6.1.2.3 Steady-State setpoint targets or ranges\n",
    "\n",
    "The purpose of control is to find inputs $\\bar{u}_1$ and $\\bar{u}_2$ that cause the outputs to take on desired values. Those values could be specified as specific setpoints $\\bar{r}_1^{SP}$ and $\\bar{r}_2^{SP}$ in the form\n",
    "\n",
    "\\begin{align}\n",
    "\\bar{y}_1 & = \\bar{r}_1^{SP} \\\\\n",
    "\\bar{y}_2 & = \\bar{r}_2^{SP}\n",
    "\\end{align}\n",
    "\n",
    "Alternatively, the desired operation could be specified by a range of values\n",
    "\n",
    "\\begin{align}\n",
    "\\bar{r}_1^{min} & \\leq \\bar{y}_1 \\leq \\bar{r}_1^{max} \\\\\n",
    "\\bar{r}_2^{min} & \\leq \\bar{y}_2 \\leq \\bar{r}_2^{max}\n",
    "\\end{align}"
   ]
  },
  {
   "cell_type": "markdown",
   "metadata": {
    "nbpages": {
     "level": 2,
     "link": "[6.1.3 CVXPY Solution](https://jckantor.github.io/cbe30338-2021/06.01-Static-Operability.html#6.1.3-CVXPY-Solution)",
     "section": "6.1.3 CVXPY Solution"
    }
   },
   "source": [
    "## 6.1.3 CVXPY Solution"
   ]
  },
  {
   "cell_type": "markdown",
   "metadata": {
    "nbpages": {
     "level": 3,
     "link": "[6.1.3.1 Imports](https://jckantor.github.io/cbe30338-2021/06.01-Static-Operability.html#6.1.3.1-Imports)",
     "section": "6.1.3.1 Imports"
    }
   },
   "source": [
    "### 6.1.3.1 Imports"
   ]
  },
  {
   "cell_type": "code",
   "execution_count": 2,
   "metadata": {
    "nbpages": {
     "level": 3,
     "link": "[6.1.3.1 Imports](https://jckantor.github.io/cbe30338-2021/06.01-Static-Operability.html#6.1.3.1-Imports)",
     "section": "6.1.3.1 Imports"
    }
   },
   "outputs": [],
   "source": [
    "import numpy as np\n",
    "import cvxpy as cp"
   ]
  },
  {
   "cell_type": "markdown",
   "metadata": {
    "nbpages": {
     "level": 3,
     "link": "[6.1.3.2 Model Parameters](https://jckantor.github.io/cbe30338-2021/06.01-Static-Operability.html#6.1.3.2-Model-Parameters)",
     "section": "6.1.3.2 Model Parameters"
    }
   },
   "source": [
    "### 6.1.3.2 Model Parameters"
   ]
  },
  {
   "cell_type": "code",
   "execution_count": 3,
   "metadata": {
    "nbpages": {
     "level": 3,
     "link": "[6.1.3.2 Model Parameters](https://jckantor.github.io/cbe30338-2021/06.01-Static-Operability.html#6.1.3.2-Model-Parameters)",
     "section": "6.1.3.2 Model Parameters"
    }
   },
   "outputs": [],
   "source": [
    "# parameter estimates.\n",
    "alpha = 0.00016       # watts / (units P * percent U1)\n",
    "P1 = 200              # P units\n",
    "P2 = 100              # P units\n",
    "CpH = 4.46            # heat capacity of the heater (J/deg C)\n",
    "CpS = 0.819           # heat capacity of the sensor (J/deg C)\n",
    "Ua = 0.050            # heat transfer coefficient from heater to environment\n",
    "Ub = 0.021            # heat transfer coefficient from heater to sensor\n",
    "Uc = 0.0335           # heat transfer coefficient between heaters\n",
    "Tamb = 21             # ambient room temperature\n",
    "\n",
    "# state space model\n",
    "A = np.array([[-(Ua + Ub + Uc)/CpH, Ub/CpH, Uc/CpH, 0], \n",
    "              [Ub/CpS, -Ub/CpS, 0, 0],\n",
    "              [Uc/CpH, 0, -(Ua + Ub + Uc)/CpH, Ub/CpH],\n",
    "              [0, 0, Ub/CpS, -Ub/CpS]])\n",
    "\n",
    "Bu = np.array([[alpha*P1/CpH, 0], [0, 0], [0, alpha*P2/CpH], [0, 0]])\n",
    "\n",
    "Bd = np.array([[Ua/CpH], [0], [Ua/CpH], [0]])\n",
    "\n",
    "C = np.array([[0, 1, 0, 0], [0, 0, 0, 1]])\n",
    "\n",
    "# initial values for states and inputs\n",
    "u_initial = np.array([0, 0])\n",
    "d_initial = np.array([Tamb])\n",
    "x_initial = np.array([Tamb, Tamb, Tamb, Tamb])"
   ]
  },
  {
   "cell_type": "markdown",
   "metadata": {
    "nbpages": {
     "level": 3,
     "link": "[6.1.3.3 CVXPY Model](https://jckantor.github.io/cbe30338-2021/06.01-Static-Operability.html#6.1.3.3-CVXPY-Model)",
     "section": "6.1.3.3 CVXPY Model"
    }
   },
   "source": [
    "### 6.1.3.3 CVXPY Model\n",
    "\n",
    "The following cell implements some, but not all, elements of the steady state analysis as a CVXPY optimization model."
   ]
  },
  {
   "cell_type": "code",
   "execution_count": 6,
   "metadata": {
    "nbpages": {
     "level": 3,
     "link": "[6.1.3.3 CVXPY Model](https://jckantor.github.io/cbe30338-2021/06.01-Static-Operability.html#6.1.3.3-CVXPY-Model)",
     "section": "6.1.3.3 CVXPY Model"
    }
   },
   "outputs": [
    {
     "name": "stdout",
     "output_type": "stream",
     "text": [
      "u = [49.99999582 49.99999704]\n",
      "x = [48.38427119 48.38427119 42.08148107 42.08148107]\n",
      "y = [48.38427119 42.08148107]\n"
     ]
    }
   ],
   "source": [
    "# knowns\n",
    "d = d_initial            # disturbance\n",
    "r = np.array([30, 40])   # setpoints\n",
    "\n",
    "# unknowns to be computed\n",
    "u = cp.Variable(2)\n",
    "x = cp.Variable(4)\n",
    "y = cp.Variable(2)\n",
    "\n",
    "# objective\n",
    "objective = cp.Minimize(0)\n",
    "\n",
    "# model constraints\n",
    "model_constraints = [\n",
    "    0 == A@x + Bu@u + Bd@d,\n",
    "    y == C@x]\n",
    "\n",
    "# input constraints\n",
    "input_constraints = [0 <= u, u <= 100]\n",
    "\n",
    "# output constraints\n",
    "output_constraints = []\n",
    "\n",
    "# setpoints\n",
    "setpoints = []\n",
    "\n",
    "# solve problem\n",
    "constraints = model_constraints + input_constraints + output_constraints + setpoints\n",
    "problem = cp.Problem(objective, constraints)\n",
    "problem.solve()\n",
    "\n",
    "# display solution\n",
    "print(f\"u = {u.value}\")\n",
    "print(f\"x = {x.value}\")\n",
    "print(f\"y = {y.value}\")"
   ]
  },
  {
   "cell_type": "markdown",
   "metadata": {
    "nbpages": {
     "level": 2,
     "link": "[6.1.4 Lab Assigment 7](https://jckantor.github.io/cbe30338-2021/06.01-Static-Operability.html#6.1.4-Lab-Assigment-7)",
     "section": "6.1.4 Lab Assigment 7"
    }
   },
   "source": [
    "## 6.1.4 Lab Assigment 7"
   ]
  },
  {
   "cell_type": "markdown",
   "metadata": {
    "nbpages": {
     "level": 3,
     "link": "[6.1.4.1 Exercise 1.](https://jckantor.github.io/cbe30338-2021/06.01-Static-Operability.html#6.1.4.1-Exercise-1.)",
     "section": "6.1.4.1 Exercise 1."
    }
   },
   "source": [
    "### 6.1.4.1 Exercise 1.\n",
    "\n",
    "1. In the cells below, cut and paste the parameter values for matriix coefficients $A$, $B_d$, $B_u$ and $C$ to match those you previously identified for your copy of the Temperature Control Lab.\n",
    "\n",
    "2. Using the CVXPY outline provided above, write a Python function named `feedforward` that accepts an estimate of $T_{amb}$, and setpoints for $T1$ and $T2$, and returns values for inputs $U1$ and $U2$. The function should constrain inputs U1 and U2 to values between 0 and 100%, constrain all temperatures to values no greater than 60 deg C. Use the the power settings required to set $T1 = 45$ and $T2 = 40$. Then create a simple event loop, and test these values on your hardware. How close was your result to the predicted value?\n",
    "\n",
    "3. Write an optimization model to find the greatest temperature differential between $T1$ and $T2$ while limiting both to temperatures less than 60 deg C. Verify this prediction using your hardware."
   ]
  },
  {
   "cell_type": "markdown",
   "metadata": {},
   "source": [
    "### Part 1"
   ]
  },
  {
   "cell_type": "code",
   "execution_count": 5,
   "metadata": {
    "nbpages": {
     "level": 3,
     "link": "[6.1.4.1 Exercise 1.](https://jckantor.github.io/cbe30338-2021/06.01-Static-Operability.html#6.1.4.1-Exercise-1.)",
     "section": "6.1.4.1 Exercise 1."
    }
   },
   "outputs": [
    {
     "name": "stdout",
     "output_type": "stream",
     "text": [
      "A:\n",
      "[[-0.04121119  0.03115583  0.00441134  0.        ]\n",
      " [ 0.09390416 -0.09390416  0.          0.        ]\n",
      " [ 0.00441134  0.         -0.04121119  0.03115583]\n",
      " [ 0.          0.          0.09390416 -0.09390416]]\n",
      "Bu:\n",
      "[[0.00364722 0.        ]\n",
      " [0.         0.        ]\n",
      " [0.         0.00182361]\n",
      " [0.         0.        ]]\n",
      "Bd:\n",
      "[[0.00564402]\n",
      " [0.        ]\n",
      " [0.00564402]\n",
      " [0.        ]]\n",
      "C:\n",
      "[[0 1 0 0]\n",
      " [0 0 0 1]]\n"
     ]
    }
   ],
   "source": [
    "# construct matrices based on Lab 5 results\n",
    "\n",
    "# define parameters from Lab 2\n",
    "CpH = 8.7738\n",
    "CpS = 2.9110\n",
    "Ua = 0.0495195\n",
    "Ub = 0.273355\n",
    "Uc = 0.0387042\n",
    "\n",
    "# constant parameters\n",
    "P1 = 200               # P1 units\n",
    "P2 = 100               # P2 units\n",
    "alpha = 0.00016        # watts / (units P1 * percent U1)\n",
    "\n",
    "# construct arrays\n",
    "A = np.array([[-(Ua + Ub + Uc)/CpH, Ub/CpH, Uc/CpH, 0], [Ub/CpS, -Ub/CpS, 0, 0],\n",
    "              [Uc/CpH, 0, -(Ua + Ub + Uc)/CpH, Ub/CpH], [0, 0, Ub/CpS, -Ub/CpS]])  # 4x4\n",
    "Bu = np.array([[alpha*P1/CpH, 0], [0, 0], [0, alpha*P2/CpH], [0, 0]])     # 4x2\n",
    "Bd = np.array([[Ua/CpH], [0], [Ua/CpH], [0]])           # 4x1\n",
    "C = np.array([[0, 1, 0, 0], [0, 0, 0, 1]])                   # 2x4\n",
    "\n",
    "# print arrays\n",
    "print('A:')\n",
    "print(A)\n",
    "print('Bu:')\n",
    "print(Bu)\n",
    "print('Bd:')\n",
    "print(Bd)\n",
    "print('C:')\n",
    "print(C)"
   ]
  },
  {
   "cell_type": "markdown",
   "metadata": {},
   "source": [
    "### Part 2"
   ]
  },
  {
   "cell_type": "code",
   "execution_count": 34,
   "metadata": {},
   "outputs": [
    {
     "name": "stdout",
     "output_type": "stream",
     "text": [
      "TCLab version 0.4.9\n",
      "Arduino Leonardo connected on port COM6 at 115200 baud.\n",
      "TCLab Firmware 2.0.1 Arduino Leonardo/Micro.\n",
      "T_amb: 24.766\n",
      "TCLab disconnected successfully.\n"
     ]
    }
   ],
   "source": [
    "# set ambient temperature and initialize disturbance and x variables\n",
    "from tclab import TCLab, setup, clock, Historian, Plotter\n",
    "\n",
    "with TCLab() as lab:\n",
    "    T1 = lab.T1\n",
    "    T2 = lab.T2\n",
    "    Tamb = (T1 + T2) / 2\n",
    "    print('T_amb:', Tamb)"
   ]
  },
  {
   "cell_type": "code",
   "execution_count": 55,
   "metadata": {
    "nbpages": {
     "level": 3,
     "link": "[6.1.4.1 Exercise 1.](https://jckantor.github.io/cbe30338-2021/06.01-Static-Operability.html#6.1.4.1-Exercise-1.)",
     "section": "6.1.4.1 Exercise 1."
    }
   },
   "outputs": [
    {
     "name": "stdout",
     "output_type": "stream",
     "text": [
      "u = [37.35933009 35.05369144]\n",
      "x = [45. 45. 40. 40.]\n",
      "y = [45. 40.]\n"
     ]
    }
   ],
   "source": [
    "# define feedforward function\n",
    "\n",
    "def feedforward(T_amb, SP1, SP2):\n",
    "\n",
    "    d_initial = [Tamb]                       # initial disturbance input\n",
    "    x_initial = np.array([Tamb, Tamb, Tamb, Tamb])       # initial steady state\n",
    "    x = x_initial\n",
    "\n",
    "    # knowns\n",
    "    d = d_initial            # disturbance\n",
    "    r = np.array([SP1, SP2])   # setpoints\n",
    "        \n",
    "    # unknowns to be computed\n",
    "    u = cp.Variable(2)\n",
    "    x = cp.Variable(4)\n",
    "    y = cp.Variable(2)\n",
    "        \n",
    "    # objective\n",
    "    objective = cp.Minimize(0)\n",
    "\n",
    "    # model constraints\n",
    "    model_constraints = [\n",
    "        0 == A@x + Bu@u + Bd@d,\n",
    "        y == C@x]\n",
    "\n",
    "    # input constraints\n",
    "    input_constraints = [0 <= u, u <= 100]\n",
    "\n",
    "    # output constraints\n",
    "    output_constraints = [x <= 60, y <= 60]\n",
    "\n",
    "    # setpoints\n",
    "    setpoints = [y == r]\n",
    "\n",
    "    # solve problem\n",
    "    constraints = model_constraints + input_constraints + output_constraints + setpoints\n",
    "    problem = cp.Problem(objective, constraints)\n",
    "    problem.solve()\n",
    "    \n",
    "    return u, x, y\n",
    "\n",
    "\n",
    "\n",
    "# set setpoints    \n",
    "SP1 = 45\n",
    "SP2 = 40\n",
    "\n",
    "(u, x, y) = feedforward(T_amb, SP1, SP2)\n",
    "\n",
    "# display solution\n",
    "print(f\"u = {u.value}\")\n",
    "print(f\"x = {x.value}\")\n",
    "print(f\"y = {y.value}\")"
   ]
  },
  {
   "cell_type": "code",
   "execution_count": 54,
   "metadata": {},
   "outputs": [],
   "source": [
    "def experiment(feedforward, SP1, SP2, t_final=900, t_step=2):\n",
    "    \n",
    "    with TCLab() as lab:\n",
    "        \n",
    "        # setup historian and plotter        \n",
    "        h = Historian(lab.sources)\n",
    "        p = Plotter(h, t_final)\n",
    "        \n",
    "        # initialize event loop\n",
    "        lab.Q1(0)\n",
    "        lab.Q2(0)\n",
    "\n",
    "        for t in clock(t_final, t_step):\n",
    "            # get new measurement\n",
    "            u, xPred, yPred = feedforward(T_amb, SP1, SP2)\n",
    "            \n",
    "            y = [lab.T1, lab.T2]\n",
    "            \n",
    "            # set input for next period\n",
    "            lab.Q1(u[0].value)\n",
    "            lab.Q2(u[1].value)\n",
    "            \n",
    "            # update plotter and historian\n",
    "            p.update(t)\n",
    "            \n",
    "        print('Steady-state T1:',lab.T1,'C')\n",
    "        print('Steady-state T2:',lab.T2,'C')\n",
    "\n",
    "            \n",
    "    return h"
   ]
  },
  {
   "cell_type": "code",
   "execution_count": 63,
   "metadata": {},
   "outputs": [
    {
     "data": {
      "image/png": "[encoded data removed]",
      "text/plain": [
       "<Figure size 640x480 with 4 Axes>"
      ]
     },
     "metadata": {},
     "output_type": "display_data"
    },
    {
     "name": "stdout",
     "output_type": "stream",
     "text": [
      "Steady-state T1: 44.907 C\n",
      "Steady-state T2: 41.266 C\n",
      "TCLab disconnected successfully.\n"
     ]
    },
    {
     "data": {
      "text/plain": [
       "<tclab.historian.Historian at 0x175a940>"
      ]
     },
     "execution_count": 63,
     "metadata": {},
     "output_type": "execute_result"
    },
    {
     "data": {
      "image/png": "[encoded data removed]",
      "text/plain": [
       "<Figure size 640x480 with 4 Axes>"
      ]
     },
     "metadata": {
      "needs_background": "light"
     },
     "output_type": "display_data"
    }
   ],
   "source": [
    "# run with given set points\n",
    "SP1 = 45\n",
    "SP2 = 40\n",
    "experiment(feedforward, SP1, SP2)"
   ]
  },
  {
   "cell_type": "markdown",
   "metadata": {},
   "source": [
    "Unfortunately, there was a glitch with sensor 1 that interfered with this graph display, but both T1 and T2 reached temperatures close to their set points. At steady state, T1 ended up around 44.9 C and T2 ended up around 41.25 C. These results are fairly close to the predicted temperatures / set points of 45 and 40 C. T1 deviated from its set point by about 0.1 degree C and T2 deviated from its set point by 1.25 C at the end of the experiment."
   ]
  },
  {
   "cell_type": "markdown",
   "metadata": {},
   "source": [
    "### Part 3"
   ]
  },
  {
   "cell_type": "code",
   "execution_count": 67,
   "metadata": {},
   "outputs": [
    {
     "name": "stdout",
     "output_type": "stream",
     "text": [
      "u = [7.84440575e+01 2.08889947e-08]\n",
      "x = [59.99999998 59.99999998 40.22334063 40.22334063]\n",
      "y = [59.99999998 40.22334063]\n"
     ]
    }
   ],
   "source": [
    "# define feedforward function with no set point inputs, just optim.\n",
    "# this function uses T1 - T2\n",
    "\n",
    "def feedforward2(T_amb):\n",
    "\n",
    "    d_initial = [Tamb]                       # initial disturbance input\n",
    "    x_initial = np.array([Tamb, Tamb, Tamb, Tamb])       # initial steady state\n",
    "    x = x_initial\n",
    "\n",
    "    # knowns\n",
    "    d = d_initial            # disturbance\n",
    "    r = np.array([SP1, SP2])   # setpoints\n",
    "        \n",
    "    # unknowns to be computed\n",
    "    u = cp.Variable(2)\n",
    "    x = cp.Variable(4)\n",
    "    y = cp.Variable(2)\n",
    "        \n",
    "    # objective\n",
    "    objective = cp.Maximize(y[0]-y[1])\n",
    "\n",
    "    # model constraints\n",
    "    model_constraints = [\n",
    "        0 == A@x + Bu@u + Bd@d,\n",
    "        y == C@x]\n",
    "\n",
    "    # input constraints\n",
    "    input_constraints = [0 <= u, u <= 100]\n",
    "\n",
    "    # output constraints\n",
    "    output_constraints = [x <= 60, y <= 60]\n",
    "\n",
    "    # setpoints\n",
    "    setpoints = []\n",
    "\n",
    "    # solve problem\n",
    "    constraints = model_constraints + input_constraints + output_constraints + setpoints\n",
    "    problem = cp.Problem(objective, constraints)\n",
    "    problem.solve()\n",
    "    \n",
    "    return u, x, y\n",
    "\n",
    "\n",
    "(u, x, y) = feedforward2(T_amb)\n",
    "\n",
    "# display solution\n",
    "print(f\"u = {u.value}\")\n",
    "print(f\"x = {x.value}\")\n",
    "print(f\"y = {y.value}\")\n"
   ]
  },
  {
   "cell_type": "code",
   "execution_count": 68,
   "metadata": {},
   "outputs": [
    {
     "name": "stdout",
     "output_type": "stream",
     "text": [
      "u = [1.15286291e-08 9.99999999e+01]\n",
      "x = [34.61846117 34.61846117 47.22404274 47.22404274]\n",
      "y = [34.61846117 47.22404274]\n"
     ]
    }
   ],
   "source": [
    "# define feedforward function with no set point inputs, just optim.\n",
    "# this function uses T2 - T1\n",
    "\n",
    "def feedforward3(T_amb):\n",
    "\n",
    "    d_initial = [Tamb]                       # initial disturbance input\n",
    "    x_initial = np.array([Tamb, Tamb, Tamb, Tamb])       # initial steady state\n",
    "    x = x_initial\n",
    "\n",
    "    # knowns\n",
    "    d = d_initial            # disturbance\n",
    "    r = np.array([SP1, SP2])   # setpoints\n",
    "        \n",
    "    # unknowns to be computed\n",
    "    u = cp.Variable(2)\n",
    "    x = cp.Variable(4)\n",
    "    y = cp.Variable(2)\n",
    "        \n",
    "    # objective\n",
    "    objective = cp.Maximize(y[1]-y[0])\n",
    "\n",
    "    # model constraints\n",
    "    model_constraints = [\n",
    "        0 == A@x + Bu@u + Bd@d,\n",
    "        y == C@x]\n",
    "\n",
    "    # input constraints\n",
    "    input_constraints = [0 <= u, u <= 100]\n",
    "\n",
    "    # output constraints\n",
    "    output_constraints = [x <= 60, y <= 60]\n",
    "\n",
    "    # setpoints\n",
    "    setpoints = []\n",
    "\n",
    "    # solve problem\n",
    "    constraints = model_constraints + input_constraints + output_constraints + setpoints\n",
    "    problem = cp.Problem(objective, constraints)\n",
    "    problem.solve()\n",
    "    \n",
    "    return u, x, y\n",
    "\n",
    "\n",
    "(u, x, y) = feedforward3(T_amb)\n",
    "\n",
    "# display solution\n",
    "print(f\"u = {u.value}\")\n",
    "print(f\"x = {x.value}\")\n",
    "print(f\"y = {y.value}\")\n"
   ]
  },
  {
   "cell_type": "markdown",
   "metadata": {},
   "source": [
    "feedforward2 gives better result (because heater 1 has more power), so use feedforward2 in experiment."
   ]
  },
  {
   "cell_type": "code",
   "execution_count": 69,
   "metadata": {},
   "outputs": [],
   "source": [
    "def experiment2(feedforward2, t_final=900, t_step=2):\n",
    "    \n",
    "    with TCLab() as lab:\n",
    "        \n",
    "        # setup historian and plotter        \n",
    "        h = Historian(lab.sources)\n",
    "        p = Plotter(h, t_final)\n",
    "        \n",
    "        # initialize event loop\n",
    "        lab.Q1(0)\n",
    "        lab.Q2(0)\n",
    "\n",
    "        for t in clock(t_final, t_step):\n",
    "            # get new measurement\n",
    "            u, xPred, yPred = feedforward2(T_amb)\n",
    "            \n",
    "            # set input for next period\n",
    "            lab.Q1(u[0].value)\n",
    "            lab.Q2(u[1].value)\n",
    "            \n",
    "            # update plotter and historian\n",
    "            p.update(t)\n",
    "            \n",
    "        print('Steady-state T1:',lab.T1,'C')\n",
    "        print('Steady-state T2:',lab.T2,'C')\n",
    "\n",
    "            \n",
    "    return h"
   ]
  },
  {
   "cell_type": "code",
   "execution_count": 70,
   "metadata": {},
   "outputs": [
    {
     "data": {
      "image/png": "[encoded data removed]",
      "text/plain": [
       "<Figure size 640x480 with 4 Axes>"
      ]
     },
     "metadata": {},
     "output_type": "display_data"
    },
    {
     "name": "stdout",
     "output_type": "stream",
     "text": [
      "Steady-state T1: 59.57 C\n",
      "Steady-state T2: 39.848 C\n",
      "TCLab disconnected successfully.\n"
     ]
    },
    {
     "data": {
      "text/plain": [
       "<tclab.historian.Historian at 0x662edc0>"
      ]
     },
     "execution_count": 70,
     "metadata": {},
     "output_type": "execute_result"
    },
    {
     "data": {
      "image/png": "[encoded data removed]",
      "text/plain": [
       "<Figure size 640x480 with 4 Axes>"
      ]
     },
     "metadata": {
      "needs_background": "light"
     },
     "output_type": "display_data"
    }
   ],
   "source": [
    "# run experiment\n",
    "experiment2(feedforward2)"
   ]
  },
  {
   "cell_type": "markdown",
   "metadata": {},
   "source": [
    "The optimization function predicted a maximum temperature differential of about 19.8 degrees C (60 vs. 40.2). In reality, the experimental temperature differential was very close to this, at about 19.7 C. The final temperatures, 59.6 and 39.8 C, were also very close to predicted final temperatures."
   ]
  },
  {
   "cell_type": "markdown",
   "metadata": {},
   "source": [
    "<!--NAVIGATION-->\n",
    "< [6.0 Predictive Control](https://jckantor.github.io/cbe30338-2021/06.00-Predictive-Control.html) | [Contents](toc.html) | [Tag Index](tag_index.html) | [7.0 Projects](https://jckantor.github.io/cbe30338-2021/07.00-Projects.html) ><p><a href=\"https://colab.research.google.com/github/jckantor/cbe30338-2021/blob/master/docs/06.01-Static-Operability.ipynb\"> <img align=\"left\" src=\"https://colab.research.google.com/assets/colab-badge.svg\" alt=\"Open in Colab\" title=\"Open in Google Colaboratory\"></a><p><a href=\"https://jckantor.github.io/cbe30338-2021/06.01-Static-Operability.ipynb\"> <img align=\"left\" src=\"https://img.shields.io/badge/Github-Download-blue.svg\" alt=\"Download\" title=\"Download Notebook\"></a>"
   ]
  }
 ],
 "metadata": {
  "kernelspec": {
   "display_name": "Python 3",
   "language": "python",
   "name": "python3"
  },
  "language_info": {
   "codemirror_mode": {
    "name": "ipython",
    "version": 3
   },
   "file_extension": ".py",
   "mimetype": "text/x-python",
   "name": "python",
   "nbconvert_exporter": "python",
   "pygments_lexer": "ipython3",
   "version": "3.8.5"
  }
 },
 "nbformat": 4,
 "nbformat_minor": 4
}
